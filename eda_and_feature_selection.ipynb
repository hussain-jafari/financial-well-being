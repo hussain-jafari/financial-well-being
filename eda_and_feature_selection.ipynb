{
 "cells": [
  {
   "cell_type": "markdown",
   "metadata": {},
   "source": [
    "# Exploratory Data Analysis / Data Wrangling"
   ]
  },
  {
   "cell_type": "markdown",
   "metadata": {},
   "source": [
    "A variable dictionary can be found at https://s3.amazonaws.com/files.consumerfinance.gov/f/documents/cfpb_nfwbs-puf-codebook.pdf"
   ]
  },
  {
   "cell_type": "code",
   "execution_count": 311,
   "metadata": {
    "collapsed": true
   },
   "outputs": [],
   "source": [
    "import pandas as pd\n",
    "import numpy as np\n",
    "import matplotlib.pyplot as plt \n",
    "import seaborn as sns\n",
    "% matplotlib inline"
   ]
  },
  {
   "cell_type": "code",
   "execution_count": 312,
   "metadata": {
    "collapsed": true
   },
   "outputs": [],
   "source": [
    "# Read in dataframe and size\n",
    "df = pd.read_csv('NFWBS_PUF_2016_data.csv')\n",
    "original_size = len(df)"
   ]
  },
  {
   "cell_type": "markdown",
   "metadata": {},
   "source": [
    "The output variable I am interested in is one's ability to handle an unexpected financial expense. "
   ]
  },
  {
   "cell_type": "code",
   "execution_count": 313,
   "metadata": {},
   "outputs": [
    {
     "data": {
      "text/plain": [
       "11"
      ]
     },
     "execution_count": 313,
     "metadata": {},
     "output_type": "execute_result"
    }
   ],
   "source": [
    "# Check how many null values our output variable has\n",
    "np.sum((df['FWB1_1'] == -1) | (df['FWB1_1'] == -4))"
   ]
  },
  {
   "cell_type": "code",
   "execution_count": 314,
   "metadata": {},
   "outputs": [
    {
     "data": {
      "image/png": "[encoded data removed]",
      "text/plain": [
       "<matplotlib.figure.Figure at 0x7feb52740c18>"
      ]
     },
     "metadata": {},
     "output_type": "display_data"
    }
   ],
   "source": [
    "# Create a histogram of our target variable after removing null values\n",
    "df = df[(df['FWB1_1'] != -1) & (df['FWB1_1'] != -4)]\n",
    "sns.countplot(x='FWB1_1', data=df)\n",
    "plt.title('Distribution of Confidence in Handling Unexpected Expenses')\n",
    "plt.xlabel('Confidence in Handling Unexpected Expenses')\n",
    "x_labels = ['Not at all', 'Very little', 'Somewhat', 'Very well', 'Completely']\n",
    "plt.xticks(np.arange(5), x_labels)\n",
    "_ = plt.ylabel('Count')"
   ]
  },
  {
   "cell_type": "markdown",
   "metadata": {},
   "source": [
    "Because of the way this variable is distributed, I decided to turn it into a Boolean variable, with True corresponding to confidence in one's ability to handle an unexpected expense."
   ]
  },
  {
   "cell_type": "code",
   "execution_count": 315,
   "metadata": {
    "collapsed": true
   },
   "outputs": [],
   "source": [
    "# True corresponds to confidence in ability to handle an unexpected financial expense\n",
    "df['target'] = df['FWB1_1'] > 3"
   ]
  },
  {
   "cell_type": "code",
   "execution_count": 316,
   "metadata": {},
   "outputs": [
    {
     "name": "stdout",
     "output_type": "stream",
     "text": [
      "% of True Responses: 37.035876547078175\n",
      "% of False Responses: 62.964123452921825\n"
     ]
    },
    {
     "data": {
      "image/png": "[encoded data removed]",
      "text/plain": [
       "<matplotlib.figure.Figure at 0x7feb528524a8>"
      ]
     },
     "metadata": {},
     "output_type": "display_data"
    }
   ],
   "source": [
    "# Look at distribution of target variable\n",
    "sns.countplot(x='target', data=df)\n",
    "plt.title('Confidence in Handling Unexpected Expenses')\n",
    "_ = plt.xlabel('Confident in Handling Unxpected Expenses?')\n",
    "\n",
    "# Print out percent True and False\n",
    "percent_true = (np.sum(df['target'] == True)) / len(df)\n",
    "percent_false = (np.sum(df['target'] == False)) / len(df)\n",
    "print('% of True Responses: {}'.format(percent_true*100))\n",
    "print('% of False Responses: {}'.format(percent_false*100))"
   ]
  },
  {
   "cell_type": "markdown",
   "metadata": {},
   "source": [
    "I then removed the variables that weren't relevant to my analysis, either because they were other measures of financial well-being or their association with my target variable wouldn't lead to actionable recommendations. I wanted to include only those variables that were about behavior relevant to absorbing financial shocks or demographic data to allow us to identify more vulnerable populations."
   ]
  },
  {
   "cell_type": "code",
   "execution_count": 317,
   "metadata": {},
   "outputs": [
    {
     "name": "stdout",
     "output_type": "stream",
     "text": [
      "Number of original columns: 218\n",
      "Number of columns in new df: 89\n"
     ]
    }
   ],
   "source": [
    "# Remove columns that won't be used for our analysis\n",
    "\n",
    "num_original_cols = len(df.columns)\n",
    "\n",
    "# Financial well being scores (includes output variable)\n",
    "fwb_cols = [col for col in df if col.startswith('FWB')]\n",
    "# Life survey questions\n",
    "swb_cols = [col for col in df if col.startswith('SWB')]\n",
    "# Specific financial knowledge questions\n",
    "kh_cols = [col for col in df if col.startswith('KHK')] + ['KHscore']\n",
    "# Specific questions answered correctly\n",
    "correct_cols = [col for col in df if col.endswith('correct')]\n",
    "# Financial knowledge questions (included in summary variable)\n",
    "finknowl_cols = [col for col in df if col.startswith('FINKNOWL')] + ['LMscore']\n",
    "# Questions about number of children (already included in more relevant variable)\n",
    "kid_cols = ['KIDS_1', 'KIDS_2', 'KIDS_3', 'KIDS_4']\n",
    "# Household demographic data (already included in more relevant variable)\n",
    "ppt_cols = [col for col in df if col.startswith('PPT')]\n",
    "# Product related questions\n",
    "prod_cols = [col for col in df if col.startswith('PROD')]\n",
    "# Interconnections questions\n",
    "connect_cols = [col for col in df if col.startswith('INTERCONNECTIONS')]\n",
    "# Questions about experiencing shocks\n",
    "shock_cols = [col for col in df if col.startswith('SHOCKS_')]\n",
    "# Housing-related questions\n",
    "housing_cols = ['HOUSING', 'LIVINGARRANGEMENT', 'HOUSERANGES', 'IMPUTATION_FLAG', \n",
    "                'VALUERANGES', 'MORTGAGE', 'HSLOC', 'HOUSESAT', 'VOLATILITY']\n",
    "# Social Security questions\n",
    "socsec_cols = ['SOCSEC1', 'SOCSEC2', 'SOCSEC3']\n",
    "# Health-related questions\n",
    "health_cols = ['CONNECT', 'HEALTH', 'DISCOUNT', 'MEMLOSS', 'DISTRESS']\n",
    "\n",
    "datakeeping_cols = ['PUF_ID', 'sample', 'fpl', 'finalwt']\n",
    "single_cols = ['EARNERS', 'SNAP', 'FRAUD2', 'PAIDHELP', 'EMPLOY', 'SUBNUMERACY1', 'SUBNUMERACY2', 'SUBKNOWL1', \n",
    "               'OBJNUMERACY1', 'MANAGE2', 'PAREDUC', 'LIFEEXPECT', 'MILITARY', 'RETIRE', 'PPREG4', 'PCTLT200FPL', \n",
    "               'OUTLOOK_1', 'OUTLOOK_2', 'GOALCONF', 'EMPLOY1_9']\n",
    "\n",
    "cols_to_remove = fwb_cols + swb_cols + kh_cols + correct_cols + finknowl_cols + kid_cols + ppt_cols + prod_cols \n",
    "cols_to_remove = cols_to_remove + connect_cols + shock_cols + housing_cols + socsec_cols + health_cols \n",
    "cols_to_remove = cols_to_remove + datakeeping_cols + single_cols\n",
    "\n",
    "df = df.drop(cols_to_remove, axis=1)\n",
    "\n",
    "num_new_cols = len(df.columns)\n",
    "\n",
    "# Create DataFrame for our independent variables\n",
    "dfx = df.drop('target', axis=1)\n",
    "\n",
    "print(\"Number of original columns:\", num_original_cols)\n",
    "print(\"Number of columns in new df:\", num_new_cols)"
   ]
  },
  {
   "cell_type": "code",
   "execution_count": 318,
   "metadata": {},
   "outputs": [
    {
     "data": {
      "text/html": [
       "<div>\n",
       "<style>\n",
       "    .dataframe thead tr:only-child th {\n",
       "        text-align: right;\n",
       "    }\n",
       "\n",
       "    .dataframe thead th {\n",
       "        text-align: left;\n",
       "    }\n",
       "\n",
       "    .dataframe tbody tr th {\n",
       "        vertical-align: top;\n",
       "    }\n",
       "</style>\n",
       "<table border=\"1\" class=\"dataframe\">\n",
       "  <thead>\n",
       "    <tr style=\"text-align: right;\">\n",
       "      <th></th>\n",
       "      <th>FSscore</th>\n",
       "      <th>FS1_1</th>\n",
       "      <th>FS1_2</th>\n",
       "      <th>FS1_3</th>\n",
       "      <th>FS1_4</th>\n",
       "      <th>FS1_5</th>\n",
       "      <th>FS1_6</th>\n",
       "      <th>FS1_7</th>\n",
       "      <th>FS2_1</th>\n",
       "      <th>FS2_2</th>\n",
       "      <th>...</th>\n",
       "      <th>generation</th>\n",
       "      <th>PPEDUC</th>\n",
       "      <th>PPETHM</th>\n",
       "      <th>PPGENDER</th>\n",
       "      <th>PPHHSIZE</th>\n",
       "      <th>PPINCIMP</th>\n",
       "      <th>PPMARIT</th>\n",
       "      <th>PPMSACAT</th>\n",
       "      <th>PPREG9</th>\n",
       "      <th>target</th>\n",
       "    </tr>\n",
       "  </thead>\n",
       "  <tbody>\n",
       "    <tr>\n",
       "      <th>0</th>\n",
       "      <td>44</td>\n",
       "      <td>3</td>\n",
       "      <td>3</td>\n",
       "      <td>4</td>\n",
       "      <td>3</td>\n",
       "      <td>3</td>\n",
       "      <td>3</td>\n",
       "      <td>4</td>\n",
       "      <td>4</td>\n",
       "      <td>3</td>\n",
       "      <td>...</td>\n",
       "      <td>1</td>\n",
       "      <td>4</td>\n",
       "      <td>1</td>\n",
       "      <td>1</td>\n",
       "      <td>1</td>\n",
       "      <td>7</td>\n",
       "      <td>3</td>\n",
       "      <td>1</td>\n",
       "      <td>8</td>\n",
       "      <td>False</td>\n",
       "    </tr>\n",
       "    <tr>\n",
       "      <th>1</th>\n",
       "      <td>43</td>\n",
       "      <td>3</td>\n",
       "      <td>3</td>\n",
       "      <td>3</td>\n",
       "      <td>3</td>\n",
       "      <td>4</td>\n",
       "      <td>3</td>\n",
       "      <td>2</td>\n",
       "      <td>4</td>\n",
       "      <td>3</td>\n",
       "      <td>...</td>\n",
       "      <td>3</td>\n",
       "      <td>2</td>\n",
       "      <td>1</td>\n",
       "      <td>1</td>\n",
       "      <td>2</td>\n",
       "      <td>6</td>\n",
       "      <td>3</td>\n",
       "      <td>1</td>\n",
       "      <td>3</td>\n",
       "      <td>False</td>\n",
       "    </tr>\n",
       "    <tr>\n",
       "      <th>2</th>\n",
       "      <td>42</td>\n",
       "      <td>3</td>\n",
       "      <td>3</td>\n",
       "      <td>3</td>\n",
       "      <td>3</td>\n",
       "      <td>3</td>\n",
       "      <td>3</td>\n",
       "      <td>3</td>\n",
       "      <td>3</td>\n",
       "      <td>3</td>\n",
       "      <td>...</td>\n",
       "      <td>3</td>\n",
       "      <td>3</td>\n",
       "      <td>2</td>\n",
       "      <td>1</td>\n",
       "      <td>3</td>\n",
       "      <td>6</td>\n",
       "      <td>3</td>\n",
       "      <td>1</td>\n",
       "      <td>9</td>\n",
       "      <td>False</td>\n",
       "    </tr>\n",
       "    <tr>\n",
       "      <th>3</th>\n",
       "      <td>42</td>\n",
       "      <td>3</td>\n",
       "      <td>3</td>\n",
       "      <td>3</td>\n",
       "      <td>3</td>\n",
       "      <td>3</td>\n",
       "      <td>3</td>\n",
       "      <td>3</td>\n",
       "      <td>3</td>\n",
       "      <td>3</td>\n",
       "      <td>...</td>\n",
       "      <td>3</td>\n",
       "      <td>2</td>\n",
       "      <td>1</td>\n",
       "      <td>1</td>\n",
       "      <td>1</td>\n",
       "      <td>8</td>\n",
       "      <td>3</td>\n",
       "      <td>1</td>\n",
       "      <td>7</td>\n",
       "      <td>False</td>\n",
       "    </tr>\n",
       "    <tr>\n",
       "      <th>4</th>\n",
       "      <td>42</td>\n",
       "      <td>3</td>\n",
       "      <td>3</td>\n",
       "      <td>3</td>\n",
       "      <td>3</td>\n",
       "      <td>3</td>\n",
       "      <td>3</td>\n",
       "      <td>3</td>\n",
       "      <td>3</td>\n",
       "      <td>3</td>\n",
       "      <td>...</td>\n",
       "      <td>4</td>\n",
       "      <td>2</td>\n",
       "      <td>3</td>\n",
       "      <td>1</td>\n",
       "      <td>5</td>\n",
       "      <td>7</td>\n",
       "      <td>1</td>\n",
       "      <td>1</td>\n",
       "      <td>4</td>\n",
       "      <td>False</td>\n",
       "    </tr>\n",
       "    <tr>\n",
       "      <th>5</th>\n",
       "      <td>57</td>\n",
       "      <td>4</td>\n",
       "      <td>4</td>\n",
       "      <td>4</td>\n",
       "      <td>4</td>\n",
       "      <td>3</td>\n",
       "      <td>4</td>\n",
       "      <td>4</td>\n",
       "      <td>4</td>\n",
       "      <td>4</td>\n",
       "      <td>...</td>\n",
       "      <td>4</td>\n",
       "      <td>4</td>\n",
       "      <td>1</td>\n",
       "      <td>1</td>\n",
       "      <td>2</td>\n",
       "      <td>7</td>\n",
       "      <td>1</td>\n",
       "      <td>1</td>\n",
       "      <td>3</td>\n",
       "      <td>True</td>\n",
       "    </tr>\n",
       "    <tr>\n",
       "      <th>6</th>\n",
       "      <td>54</td>\n",
       "      <td>4</td>\n",
       "      <td>4</td>\n",
       "      <td>3</td>\n",
       "      <td>3</td>\n",
       "      <td>3</td>\n",
       "      <td>4</td>\n",
       "      <td>4</td>\n",
       "      <td>5</td>\n",
       "      <td>4</td>\n",
       "      <td>...</td>\n",
       "      <td>3</td>\n",
       "      <td>4</td>\n",
       "      <td>4</td>\n",
       "      <td>2</td>\n",
       "      <td>5</td>\n",
       "      <td>7</td>\n",
       "      <td>1</td>\n",
       "      <td>1</td>\n",
       "      <td>4</td>\n",
       "      <td>False</td>\n",
       "    </tr>\n",
       "    <tr>\n",
       "      <th>7</th>\n",
       "      <td>35</td>\n",
       "      <td>2</td>\n",
       "      <td>3</td>\n",
       "      <td>3</td>\n",
       "      <td>2</td>\n",
       "      <td>2</td>\n",
       "      <td>4</td>\n",
       "      <td>2</td>\n",
       "      <td>4</td>\n",
       "      <td>3</td>\n",
       "      <td>...</td>\n",
       "      <td>4</td>\n",
       "      <td>1</td>\n",
       "      <td>1</td>\n",
       "      <td>2</td>\n",
       "      <td>3</td>\n",
       "      <td>4</td>\n",
       "      <td>4</td>\n",
       "      <td>1</td>\n",
       "      <td>4</td>\n",
       "      <td>False</td>\n",
       "    </tr>\n",
       "    <tr>\n",
       "      <th>8</th>\n",
       "      <td>58</td>\n",
       "      <td>4</td>\n",
       "      <td>5</td>\n",
       "      <td>5</td>\n",
       "      <td>4</td>\n",
       "      <td>3</td>\n",
       "      <td>5</td>\n",
       "      <td>4</td>\n",
       "      <td>4</td>\n",
       "      <td>4</td>\n",
       "      <td>...</td>\n",
       "      <td>3</td>\n",
       "      <td>1</td>\n",
       "      <td>3</td>\n",
       "      <td>2</td>\n",
       "      <td>4</td>\n",
       "      <td>7</td>\n",
       "      <td>1</td>\n",
       "      <td>1</td>\n",
       "      <td>7</td>\n",
       "      <td>True</td>\n",
       "    </tr>\n",
       "    <tr>\n",
       "      <th>9</th>\n",
       "      <td>42</td>\n",
       "      <td>3</td>\n",
       "      <td>2</td>\n",
       "      <td>2</td>\n",
       "      <td>3</td>\n",
       "      <td>2</td>\n",
       "      <td>3</td>\n",
       "      <td>4</td>\n",
       "      <td>4</td>\n",
       "      <td>3</td>\n",
       "      <td>...</td>\n",
       "      <td>3</td>\n",
       "      <td>2</td>\n",
       "      <td>1</td>\n",
       "      <td>1</td>\n",
       "      <td>3</td>\n",
       "      <td>8</td>\n",
       "      <td>1</td>\n",
       "      <td>1</td>\n",
       "      <td>2</td>\n",
       "      <td>False</td>\n",
       "    </tr>\n",
       "  </tbody>\n",
       "</table>\n",
       "<p>10 rows × 89 columns</p>\n",
       "</div>"
      ],
      "text/plain": [
       "   FSscore  FS1_1  FS1_2  FS1_3  FS1_4  FS1_5  FS1_6  FS1_7  FS2_1  FS2_2  \\\n",
       "0       44      3      3      4      3      3      3      4      4      3   \n",
       "1       43      3      3      3      3      4      3      2      4      3   \n",
       "2       42      3      3      3      3      3      3      3      3      3   \n",
       "3       42      3      3      3      3      3      3      3      3      3   \n",
       "4       42      3      3      3      3      3      3      3      3      3   \n",
       "5       57      4      4      4      4      3      4      4      4      4   \n",
       "6       54      4      4      3      3      3      4      4      5      4   \n",
       "7       35      2      3      3      2      2      4      2      4      3   \n",
       "8       58      4      5      5      4      3      5      4      4      4   \n",
       "9       42      3      2      2      3      2      3      4      4      3   \n",
       "\n",
       "    ...    generation  PPEDUC  PPETHM  PPGENDER  PPHHSIZE  PPINCIMP  PPMARIT  \\\n",
       "0   ...             1       4       1         1         1         7        3   \n",
       "1   ...             3       2       1         1         2         6        3   \n",
       "2   ...             3       3       2         1         3         6        3   \n",
       "3   ...             3       2       1         1         1         8        3   \n",
       "4   ...             4       2       3         1         5         7        1   \n",
       "5   ...             4       4       1         1         2         7        1   \n",
       "6   ...             3       4       4         2         5         7        1   \n",
       "7   ...             4       1       1         2         3         4        4   \n",
       "8   ...             3       1       3         2         4         7        1   \n",
       "9   ...             3       2       1         1         3         8        1   \n",
       "\n",
       "   PPMSACAT  PPREG9  target  \n",
       "0         1       8   False  \n",
       "1         1       3   False  \n",
       "2         1       9   False  \n",
       "3         1       7   False  \n",
       "4         1       4   False  \n",
       "5         1       3    True  \n",
       "6         1       4   False  \n",
       "7         1       4   False  \n",
       "8         1       7    True  \n",
       "9         1       2   False  \n",
       "\n",
       "[10 rows x 89 columns]"
      ]
     },
     "execution_count": 318,
     "metadata": {},
     "output_type": "execute_result"
    }
   ],
   "source": [
    "df.head(10)"
   ]
  },
  {
   "cell_type": "markdown",
   "metadata": {},
   "source": [
    "In order to make the data more manageable, I looked for variables that I could remove because they were very closely and obviously related to our target. For example, the amount of money in savings. "
   ]
  },
  {
   "cell_type": "code",
   "execution_count": 319,
   "metadata": {
    "collapsed": true
   },
   "outputs": [],
   "source": [
    "# Get info for plotting percentage of target being True for each category in a chosen column\n",
    "def percentages_of_true_across_categories(column_name, data=df):\n",
    "    \n",
    "    # Calculate number of categories\n",
    "    num_categories = len(data[column_name].unique())\n",
    "    \n",
    "    # Create table counting occurences of True and False for each category\n",
    "    frequency_table = pd.crosstab(data[column_name], data['target'])\n",
    "    \n",
    "    # Generate x and y values\n",
    "    x_vals = np.arange(num_categories) + 1\n",
    "    \n",
    "    # Initialize y values\n",
    "    y_vals = np.empty(num_categories)\n",
    "    # Loop through categories\n",
    "    for i in np.arange(num_categories):\n",
    "        # If variable is boolean\n",
    "        if num_categories == 2:\n",
    "            # Calculate percentage of respondents who responded True for each category\n",
    "            y_vals[i] = frequency_table.loc[i, True] / np.sum(frequency_table.iloc[i,0:2])\n",
    "        else:\n",
    "            y_vals[i] = frequency_table.loc[i+1, True] / np.sum(frequency_table.iloc[i,0:2])\n",
    "            \n",
    "    return x_vals, y_vals"
   ]
  },
  {
   "cell_type": "code",
   "execution_count": 320,
   "metadata": {},
   "outputs": [
    {
     "data": {
      "image/png": "[encoded data removed]",
      "text/plain": [
       "<matplotlib.figure.Figure at 0x7feb48478b70>"
      ]
     },
     "metadata": {},
     "output_type": "display_data"
    }
   ],
   "source": [
    "# Create bar graph of percentage of True responses for each category of savings\n",
    "\n",
    "# Remove respondents who refused to answer\n",
    "savings_df = df[(df['SAVINGSRANGES'] != -1) & (df['SAVINGSRANGES'] < 98)]\n",
    "\n",
    "# Calculate x and y values\n",
    "x_vals, y_vals = percentages_of_true_across_categories('SAVINGSRANGES', savings_df)\n",
    "\n",
    "# Create bar graph \n",
    "plt.bar(x_vals, y_vals)\n",
    "plt.title('Relating Savings and Handling Unexpected Expenses')\n",
    "plt.xlabel('Savings')\n",
    "plt.ylabel('% Can Handle Unexpected Expense')\n",
    "x_labels= ['$0', '$1-99', '$100-999', '$1,000-4,999', '$5,000-19,999', 'S20,000-74,999', '$75,000+']\n",
    "plt.xticks(np.arange(8)+1, x_labels, rotation=30)\n",
    "plt.show()"
   ]
  },
  {
   "cell_type": "markdown",
   "metadata": {},
   "source": [
    "We see from both of these graphs that there is a clear effect of the amount one has in savings on one's confidence in being able to handle unexpected expenses, as we would of course intuitively expect. This is thus a variable that we don't want to include in our model. Closely related is the SAVEHABIT variable, or whether putting money into savings is a habit. "
   ]
  },
  {
   "cell_type": "code",
   "execution_count": 321,
   "metadata": {},
   "outputs": [
    {
     "data": {
      "image/png": "[encoded data removed]",
      "text/plain": [
       "<matplotlib.figure.Figure at 0x7feb52f795c0>"
      ]
     },
     "metadata": {},
     "output_type": "display_data"
    }
   ],
   "source": [
    "# Remove respondents who refused to answer\n",
    "save_habit_df = df[df['SAVEHABIT'] != -1]\n",
    "\n",
    "# Get x and y values\n",
    "x_vals, y_vals = percentages_of_true_across_categories('SAVEHABIT', save_habit_df)\n",
    "\n",
    "# Create bar graph\n",
    "plt.bar(x_vals, y_vals)\n",
    "plt.title('Relating Savings Habits and Handling Unexpected Expenses')\n",
    "plt.xlabel('Is Saving Money A Habit?')\n",
    "plt.ylabel('% Can Handle Unexpected Expense')\n",
    "x_labels = ['Strongly disagree', 'Disagree', 'Disagree slightly', 'Agree slightly', 'Agree', 'Strongly agree']\n",
    "plt.xticks(x_vals, x_labels, rotation=30)\n",
    "plt.show()"
   ]
  },
  {
   "cell_type": "markdown",
   "metadata": {},
   "source": [
    "Another obviously correlated variable could be ABSORBSHOCK, or one's confidence in the ability to raise $2,000 in 30 days. "
   ]
  },
  {
   "cell_type": "code",
   "execution_count": 322,
   "metadata": {},
   "outputs": [
    {
     "data": {
      "image/png": "[encoded data removed]",
      "text/plain": [
       "<matplotlib.figure.Figure at 0x7feb48548dd8>"
      ]
     },
     "metadata": {},
     "output_type": "display_data"
    }
   ],
   "source": [
    "# Remove rows where response was 8 (corresponding to 'I don't know') or -1 (no response)\n",
    "absorb_df = df[(df['ABSORBSHOCK'] != 8) & (df['ABSORBSHOCK'] != -1)]\n",
    "\n",
    "# Calculate x and y values\n",
    "x_vals, y_vals = percentages_of_true_across_categories('ABSORBSHOCK', absorb_df)\n",
    "\n",
    "# Create bar graph \n",
    "plt.bar(x_vals, y_vals)\n",
    "plt.title('Relating Ability to Raise Money and Handling Unexpected Expenses')\n",
    "plt.xlabel('Ability to Raise $2k in 30 Days')\n",
    "plt.ylabel('% Can Handle Unexpected Expense')\n",
    "x_labels = ['Certainly Can\\'t', 'Probably Can\\'t', 'Probably Can', 'Certainly Can']\n",
    "plt.xticks(x_vals, x_labels, rotation=15)\n",
    "plt.show()"
   ]
  },
  {
   "cell_type": "markdown",
   "metadata": {},
   "source": [
    "Finally I wanted to look at ENDSMEET, or the difficulty of covering monthly expenses and bills."
   ]
  },
  {
   "cell_type": "code",
   "execution_count": 323,
   "metadata": {},
   "outputs": [
    {
     "data": {
      "image/png": "[encoded data removed]",
      "text/plain": [
       "<matplotlib.figure.Figure at 0x7feb43e509e8>"
      ]
     },
     "metadata": {},
     "output_type": "display_data"
    }
   ],
   "source": [
    "# Remove respondents who refused to answer\n",
    "endsmeet_df = df[df['ENDSMEET'] != -1]\n",
    "\n",
    "# Get x and y values\n",
    "x_vals, y_vals = percentages_of_true_across_categories('ENDSMEET', endsmeet_df)\n",
    "\n",
    "# Create bar graph \n",
    "plt.bar(x_vals, y_vals)\n",
    "plt.title('Relating Making Ends Meet and Handling Unexpected Expenses')\n",
    "plt.xlabel('Difficulty of Covering Monthly Expenses/Bills')\n",
    "plt.ylabel('% Can Handle Unexpected Expense')\n",
    "x_labels = ['Not at all difficult', 'Somewhat difficult', 'Very difficult']\n",
    "plt.xticks(x_vals, x_labels, rotation=15)\n",
    "plt.show()"
   ]
  },
  {
   "cell_type": "markdown",
   "metadata": {},
   "source": [
    "All of these graphs suggest we should remove their corresponding variables from our dataset. "
   ]
  },
  {
   "cell_type": "code",
   "execution_count": 324,
   "metadata": {
    "collapsed": true
   },
   "outputs": [],
   "source": [
    "# Drop obviously related variables\n",
    "dfx.drop(['SAVINGSRANGES', 'SAVEHABIT', 'ABSORBSHOCK', 'ENDSMEET'], axis=1, inplace=True)"
   ]
  },
  {
   "cell_type": "markdown",
   "metadata": {},
   "source": [
    "A more interesting question would be whether income has this clear of an effect, or if financial management might be more important than how much you make. "
   ]
  },
  {
   "cell_type": "code",
   "execution_count": 325,
   "metadata": {},
   "outputs": [
    {
     "data": {
      "image/png": "[encoded data removed]",
      "text/plain": [
       "<matplotlib.figure.Figure at 0x7feb43e50c50>"
      ]
     },
     "metadata": {},
     "output_type": "display_data"
    }
   ],
   "source": [
    "# Look at relationship between household income and confidence in ability to handle unexpected expenses\n",
    "sns.set(rc={'figure.figsize':(5,5)})\n",
    "sns.boxplot(x='target', y='PPINCIMP', data=df)\n",
    "plt.xlabel('Confident in Handling Unexpected Expenses?')\n",
    "plt.ylabel('Household Income ($)')\n",
    "plt.title('Income vs. Confidence in Handling Unexpected Expenses')\n",
    "y_labels= ['<20k', '20k-30k', '30k-40k', '40k-50k', '50k-60k', '60k-75k', '75k-100k', '100k-150k', '150k+']\n",
    "_ = plt.yticks(np.arange(9)+1, y_labels)"
   ]
  },
  {
   "cell_type": "markdown",
   "metadata": {},
   "source": [
    "Again, as one would expect, lower income is associated with a lack of confidence in absorbing financial shocks while higher income is associated with the opposite. However, there is an interesting subset of the population where income doesn't seem to have a determinstic effect on our output variable, and other factors come into play. Let's look more closely at what incomes this happens at."
   ]
  },
  {
   "cell_type": "code",
   "execution_count": 326,
   "metadata": {},
   "outputs": [
    {
     "data": {
      "image/png": "[encoded data removed]",
      "text/plain": [
       "<matplotlib.figure.Figure at 0x7feb92fda4e0>"
      ]
     },
     "metadata": {},
     "output_type": "display_data"
    }
   ],
   "source": [
    "# Create plot comparing confidence across household income\n",
    "sns.countplot(x='PPINCIMP', hue='target', data=df)\n",
    "plt.xlabel('Household Income ($)')\n",
    "plt.ylabel('Count')\n",
    "plt.title('Differences in Target Variable across Income')\n",
    "x_labels= ['<20k', '20k-30k', '30k-40k', '40k-50k', '50k-60k', '60k-75k', '75k-100k', '100k-150k', '150k+']\n",
    "_ = plt.xticks(np.arange(9), x_labels, rotation=30)"
   ]
  },
  {
   "cell_type": "markdown",
   "metadata": {},
   "source": [
    "We again see stark differences in how confident people are in handling unexpected expenses for most incomes. However, for people with incomes from $100k-150k, there seem to be other important factors determining this confidence, since the number of people who say they are confident and the number who say they aren't at this range are almost equal. Perhaps the most obvious possible explanation is household size. "
   ]
  },
  {
   "cell_type": "code",
   "execution_count": 327,
   "metadata": {},
   "outputs": [
    {
     "data": {
      "image/png": "[encoded data removed]",
      "text/plain": [
       "<matplotlib.figure.Figure at 0x7feb4afe4ac8>"
      ]
     },
     "metadata": {},
     "output_type": "display_data"
    }
   ],
   "source": [
    "# Only include respondents with relevant income\n",
    "subset_by_income = df[df['PPINCIMP'] == 8]\n",
    "\n",
    "# Calculate x and y values\n",
    "x_vals, y_vals = percentages_of_true_across_categories('PPHHSIZE', subset_by_income)\n",
    "\n",
    "#Create bar graph \n",
    "plt.bar(x_vals, y_vals)\n",
    "plt.title('Relating Household Size and Handling Unexpected Expenses')\n",
    "plt.xlabel('Household Size')\n",
    "plt.ylabel('% Can Handle Unexpected Expense')\n",
    "plt.show()"
   ]
  },
  {
   "cell_type": "markdown",
   "metadata": {},
   "source": [
    "We can see that increasing household size has a negative effect on one's confidence in handling unexpected expenses, but the effect is not too drastic. It could thus be useful to look for other behaviors that would be better predictors of our output variable than income our household size, particularly for the subset of respondents with an income between $100,000 and S149,999. \n",
    "\n",
    "Let's also look at some groupings of variables that are suggested by our data dictionary. For example, there are two groups of financial skill variables of size 7 and size 3 that are summarized by a financial skill score. However, some of these variables might not be very well correlated and worth distinguishing. "
   ]
  },
  {
   "cell_type": "code",
   "execution_count": 328,
   "metadata": {},
   "outputs": [
    {
     "data": {
      "image/png": "[encoded data removed]",
      "text/plain": [
       "<matplotlib.figure.Figure at 0x7feb48531588>"
      ]
     },
     "metadata": {},
     "output_type": "display_data"
    }
   ],
   "source": [
    "# Extract financial skill columns and use them to create a DataFrame\n",
    "fs1_cols = [col for col in df if col.startswith('FS1')]\n",
    "fs2_cols = [col for col in df if col.startswith('FS2')]\n",
    "fs_cols = fs1_cols + fs2_cols\n",
    "\n",
    "financial_skills_df = df[fs_cols]\n",
    "\n",
    "# Create correlation matrix using Spearman method (ordinal variables) and heatmap\n",
    "financial_skills_corr_matrix = financial_skills_df.corr(method='spearman')\n",
    "_ = sns.heatmap(financial_skills_corr_matrix)"
   ]
  },
  {
   "cell_type": "markdown",
   "metadata": {},
   "source": [
    "We can see that while the FS1 scores are moderately correlated with one another, the FS2 scores are less correlated with all of the scores (particularly FS2_3). Looking at the variable dictionary, we can see that the FS2 scores do not necessarily lead to actionable recommendations, so we can dispose of these. Checking the dictionary, we see that the FS1 variables make meaningful distinctions in behavior that would be useful in making recommendations. They are also only moderately correlated so we'd like to keep them instead of using a summary variable."
   ]
  },
  {
   "cell_type": "code",
   "execution_count": 329,
   "metadata": {
    "collapsed": true
   },
   "outputs": [],
   "source": [
    "# Drop individual FS2 scores\n",
    "dfx = dfx.drop(fs2_cols + ['FSscore'], axis=1)"
   ]
  },
  {
   "cell_type": "markdown",
   "metadata": {},
   "source": [
    "When looking at the effect of these financial skills on confidence in handling unexpected expenses, the overall score will be more manageable and easier to use than 7 individual scores. "
   ]
  },
  {
   "cell_type": "code",
   "execution_count": 330,
   "metadata": {},
   "outputs": [
    {
     "data": {
      "image/png": "[encoded data removed]",
      "text/plain": [
       "<matplotlib.figure.Figure at 0x7feb43ef19b0>"
      ]
     },
     "metadata": {},
     "output_type": "display_data"
    },
    {
     "data": {
      "image/png": "[encoded data removed]",
      "text/plain": [
       "<matplotlib.figure.Figure at 0x7feb43ed9898>"
      ]
     },
     "metadata": {},
     "output_type": "display_data"
    }
   ],
   "source": [
    "# Create density plot of financial skill score for entire dataset, colored by target \n",
    "g = sns.FacetGrid(subset_by_income, hue=\"target\")\n",
    "g = g.map(sns.distplot, \"FSscore\", hist=False)\n",
    "plt.legend()\n",
    "plt.title('Density Plot of FSscore (Entire Dataset)')\n",
    "\n",
    "# Create density plot of financial skill score for $100k-150k income bracket, colored by target \n",
    "g = sns.FacetGrid(subset_by_income, hue=\"target\")\n",
    "g = g.map(sns.distplot, \"FSscore\", hist=False)\n",
    "plt.legend()\n",
    "_ = plt.title('Density Plot of FSscore ($100k-150K household income)')"
   ]
  },
  {
   "cell_type": "markdown",
   "metadata": {},
   "source": [
    "We can see that moderate values are by far the most common. A higher score does seem to correspond to more confidence in handling unexpected expenses, but the effect is not drastic and there is considerable overlap between groups. This effect is consistent across the entire dataset and the $100k-150k income bracket.\n",
    "\n",
    "Let's also look at some other possible groupings. There is a group of variables associated with financial planning, for example."
   ]
  },
  {
   "cell_type": "code",
   "execution_count": 331,
   "metadata": {},
   "outputs": [
    {
     "data": {
      "text/html": [
       "<div>\n",
       "<style>\n",
       "    .dataframe thead tr:only-child th {\n",
       "        text-align: right;\n",
       "    }\n",
       "\n",
       "    .dataframe thead th {\n",
       "        text-align: left;\n",
       "    }\n",
       "\n",
       "    .dataframe tbody tr th {\n",
       "        vertical-align: top;\n",
       "    }\n",
       "</style>\n",
       "<table border=\"1\" class=\"dataframe\">\n",
       "  <thead>\n",
       "    <tr style=\"text-align: right;\">\n",
       "      <th></th>\n",
       "      <th>PROPPLAN_1</th>\n",
       "      <th>PROPPLAN_2</th>\n",
       "      <th>PROPPLAN_3</th>\n",
       "      <th>PROPPLAN_4</th>\n",
       "    </tr>\n",
       "  </thead>\n",
       "  <tbody>\n",
       "    <tr>\n",
       "      <th>PROPPLAN_1</th>\n",
       "      <td>1.000000</td>\n",
       "      <td>0.605300</td>\n",
       "      <td>0.474601</td>\n",
       "      <td>0.488235</td>\n",
       "    </tr>\n",
       "    <tr>\n",
       "      <th>PROPPLAN_2</th>\n",
       "      <td>0.605300</td>\n",
       "      <td>1.000000</td>\n",
       "      <td>0.590555</td>\n",
       "      <td>0.626030</td>\n",
       "    </tr>\n",
       "    <tr>\n",
       "      <th>PROPPLAN_3</th>\n",
       "      <td>0.474601</td>\n",
       "      <td>0.590555</td>\n",
       "      <td>1.000000</td>\n",
       "      <td>0.623693</td>\n",
       "    </tr>\n",
       "    <tr>\n",
       "      <th>PROPPLAN_4</th>\n",
       "      <td>0.488235</td>\n",
       "      <td>0.626030</td>\n",
       "      <td>0.623693</td>\n",
       "      <td>1.000000</td>\n",
       "    </tr>\n",
       "  </tbody>\n",
       "</table>\n",
       "</div>"
      ],
      "text/plain": [
       "            PROPPLAN_1  PROPPLAN_2  PROPPLAN_3  PROPPLAN_4\n",
       "PROPPLAN_1    1.000000    0.605300    0.474601    0.488235\n",
       "PROPPLAN_2    0.605300    1.000000    0.590555    0.626030\n",
       "PROPPLAN_3    0.474601    0.590555    1.000000    0.623693\n",
       "PROPPLAN_4    0.488235    0.626030    0.623693    1.000000"
      ]
     },
     "execution_count": 331,
     "metadata": {},
     "output_type": "execute_result"
    }
   ],
   "source": [
    "# Extract relevant columns and use them to create DataFrame\n",
    "planning_cols = [col for col in df if col.startswith('PROPPLAN')]\n",
    "\n",
    "planning_df = df[planning_cols]\n",
    "\n",
    "# Create correlation matrix using Spearman method (ordinal variables) \n",
    "planning_corr_matrix = planning_df.corr(method='spearman')\n",
    "planning_corr_matrix"
   ]
  },
  {
   "cell_type": "markdown",
   "metadata": {},
   "source": [
    "We can see variables 1 and 2 are moderately correlated, as well as 3 and 4. Looking at the variable dictionary, we see that 1 and 2 have to do with keeping track of your budget, and 3 and 4 have to do with financial goals. However, I would say that 4 (having a plan of action for achieving financial goals) includes 3 (having financial goals) and 2 (considering how to stick to your budget) includes 1 (consulting your budget), so let's remove 1 and 3. "
   ]
  },
  {
   "cell_type": "code",
   "execution_count": 332,
   "metadata": {
    "collapsed": true
   },
   "outputs": [],
   "source": [
    "# Remove redundant planning columns\n",
    "dfx = dfx.drop(['PROPPLAN_1', 'PROPPLAN_3'], axis=1)"
   ]
  },
  {
   "cell_type": "markdown",
   "metadata": {},
   "source": [
    "There is also a grouping related to money management we can inspect."
   ]
  },
  {
   "cell_type": "code",
   "execution_count": 333,
   "metadata": {},
   "outputs": [
    {
     "data": {
      "text/html": [
       "<div>\n",
       "<style>\n",
       "    .dataframe thead tr:only-child th {\n",
       "        text-align: right;\n",
       "    }\n",
       "\n",
       "    .dataframe thead th {\n",
       "        text-align: left;\n",
       "    }\n",
       "\n",
       "    .dataframe tbody tr th {\n",
       "        vertical-align: top;\n",
       "    }\n",
       "</style>\n",
       "<table border=\"1\" class=\"dataframe\">\n",
       "  <thead>\n",
       "    <tr style=\"text-align: right;\">\n",
       "      <th></th>\n",
       "      <th>MANAGE1_1</th>\n",
       "      <th>MANAGE1_2</th>\n",
       "      <th>MANAGE1_3</th>\n",
       "      <th>MANAGE1_4</th>\n",
       "    </tr>\n",
       "  </thead>\n",
       "  <tbody>\n",
       "    <tr>\n",
       "      <th>MANAGE1_1</th>\n",
       "      <td>1.000000</td>\n",
       "      <td>0.449185</td>\n",
       "      <td>0.465718</td>\n",
       "      <td>0.427331</td>\n",
       "    </tr>\n",
       "    <tr>\n",
       "      <th>MANAGE1_2</th>\n",
       "      <td>0.449185</td>\n",
       "      <td>1.000000</td>\n",
       "      <td>0.453673</td>\n",
       "      <td>0.419643</td>\n",
       "    </tr>\n",
       "    <tr>\n",
       "      <th>MANAGE1_3</th>\n",
       "      <td>0.465718</td>\n",
       "      <td>0.453673</td>\n",
       "      <td>1.000000</td>\n",
       "      <td>0.322690</td>\n",
       "    </tr>\n",
       "    <tr>\n",
       "      <th>MANAGE1_4</th>\n",
       "      <td>0.427331</td>\n",
       "      <td>0.419643</td>\n",
       "      <td>0.322690</td>\n",
       "      <td>1.000000</td>\n",
       "    </tr>\n",
       "  </tbody>\n",
       "</table>\n",
       "</div>"
      ],
      "text/plain": [
       "           MANAGE1_1  MANAGE1_2  MANAGE1_3  MANAGE1_4\n",
       "MANAGE1_1   1.000000   0.449185   0.465718   0.427331\n",
       "MANAGE1_2   0.449185   1.000000   0.453673   0.419643\n",
       "MANAGE1_3   0.465718   0.453673   1.000000   0.322690\n",
       "MANAGE1_4   0.427331   0.419643   0.322690   1.000000"
      ]
     },
     "execution_count": 333,
     "metadata": {},
     "output_type": "execute_result"
    }
   ],
   "source": [
    "# Extract relevant columns and use them to create DataFrame\n",
    "manage_cols = [col for col in df if col.startswith('MANAGE1')]\n",
    "\n",
    "manage_df = df[manage_cols]\n",
    "\n",
    "# Create correlation matrix using Spearman method (ordinal variables) \n",
    "manage_corr_matrix = manage_df.corr(method='spearman')\n",
    "manage_corr_matrix"
   ]
  },
  {
   "cell_type": "markdown",
   "metadata": {},
   "source": [
    "Since these variables are only moderately correlated, we'd like to keep them. However, MANAGE1_4 won't provide a very useful recommendation, so let's remove it."
   ]
  },
  {
   "cell_type": "code",
   "execution_count": 334,
   "metadata": {
    "collapsed": true
   },
   "outputs": [],
   "source": [
    "# Remove MANAGE1_4 variable from our data set\n",
    "dfx = dfx.drop('MANAGE1_4', axis=1)"
   ]
  },
  {
   "cell_type": "markdown",
   "metadata": {},
   "source": [
    "Finally, we can look at variables related to materialism and self-control. "
   ]
  },
  {
   "cell_type": "code",
   "execution_count": 335,
   "metadata": {},
   "outputs": [
    {
     "data": {
      "text/html": [
       "<div>\n",
       "<style>\n",
       "    .dataframe thead tr:only-child th {\n",
       "        text-align: right;\n",
       "    }\n",
       "\n",
       "    .dataframe thead th {\n",
       "        text-align: left;\n",
       "    }\n",
       "\n",
       "    .dataframe tbody tr th {\n",
       "        vertical-align: top;\n",
       "    }\n",
       "</style>\n",
       "<table border=\"1\" class=\"dataframe\">\n",
       "  <thead>\n",
       "    <tr style=\"text-align: right;\">\n",
       "      <th></th>\n",
       "      <th>MATERIALISM_1</th>\n",
       "      <th>MATERIALISM_2</th>\n",
       "      <th>MATERIALISM_3</th>\n",
       "    </tr>\n",
       "  </thead>\n",
       "  <tbody>\n",
       "    <tr>\n",
       "      <th>MATERIALISM_1</th>\n",
       "      <td>1.000000</td>\n",
       "      <td>0.484030</td>\n",
       "      <td>0.622616</td>\n",
       "    </tr>\n",
       "    <tr>\n",
       "      <th>MATERIALISM_2</th>\n",
       "      <td>0.484030</td>\n",
       "      <td>1.000000</td>\n",
       "      <td>0.495582</td>\n",
       "    </tr>\n",
       "    <tr>\n",
       "      <th>MATERIALISM_3</th>\n",
       "      <td>0.622616</td>\n",
       "      <td>0.495582</td>\n",
       "      <td>1.000000</td>\n",
       "    </tr>\n",
       "  </tbody>\n",
       "</table>\n",
       "</div>"
      ],
      "text/plain": [
       "               MATERIALISM_1  MATERIALISM_2  MATERIALISM_3\n",
       "MATERIALISM_1       1.000000       0.484030       0.622616\n",
       "MATERIALISM_2       0.484030       1.000000       0.495582\n",
       "MATERIALISM_3       0.622616       0.495582       1.000000"
      ]
     },
     "execution_count": 335,
     "metadata": {},
     "output_type": "execute_result"
    }
   ],
   "source": [
    "# Extract relevant columns and use them to create DataFrame\n",
    "materialism_cols = [col for col in df if col.startswith('MATERIALISM')]\n",
    "\n",
    "materialism_df = df[materialism_cols]\n",
    "\n",
    "# Create correlation matrix using Spearman method (ordinal variables) \n",
    "materialism_corr_matrix = materialism_df.corr(method='spearman')\n",
    "materialism_corr_matrix"
   ]
  },
  {
   "cell_type": "markdown",
   "metadata": {},
   "source": [
    "1 and 3 are moderately correlated, while 2 has low correlation with both. Let's remove 1 because it is slightly redundant given 3 and more easily leads to recommendations."
   ]
  },
  {
   "cell_type": "code",
   "execution_count": 336,
   "metadata": {},
   "outputs": [
    {
     "data": {
      "text/html": [
       "<div>\n",
       "<style>\n",
       "    .dataframe thead tr:only-child th {\n",
       "        text-align: right;\n",
       "    }\n",
       "\n",
       "    .dataframe thead th {\n",
       "        text-align: left;\n",
       "    }\n",
       "\n",
       "    .dataframe tbody tr th {\n",
       "        vertical-align: top;\n",
       "    }\n",
       "</style>\n",
       "<table border=\"1\" class=\"dataframe\">\n",
       "  <thead>\n",
       "    <tr style=\"text-align: right;\">\n",
       "      <th></th>\n",
       "      <th>SELFCONTROL_1</th>\n",
       "      <th>SELFCONTROL_2</th>\n",
       "      <th>SELFCONTROL_3</th>\n",
       "    </tr>\n",
       "  </thead>\n",
       "  <tbody>\n",
       "    <tr>\n",
       "      <th>SELFCONTROL_1</th>\n",
       "      <td>1.000000</td>\n",
       "      <td>-0.223181</td>\n",
       "      <td>-0.174319</td>\n",
       "    </tr>\n",
       "    <tr>\n",
       "      <th>SELFCONTROL_2</th>\n",
       "      <td>-0.223181</td>\n",
       "      <td>1.000000</td>\n",
       "      <td>0.443601</td>\n",
       "    </tr>\n",
       "    <tr>\n",
       "      <th>SELFCONTROL_3</th>\n",
       "      <td>-0.174319</td>\n",
       "      <td>0.443601</td>\n",
       "      <td>1.000000</td>\n",
       "    </tr>\n",
       "  </tbody>\n",
       "</table>\n",
       "</div>"
      ],
      "text/plain": [
       "               SELFCONTROL_1  SELFCONTROL_2  SELFCONTROL_3\n",
       "SELFCONTROL_1       1.000000      -0.223181      -0.174319\n",
       "SELFCONTROL_2      -0.223181       1.000000       0.443601\n",
       "SELFCONTROL_3      -0.174319       0.443601       1.000000"
      ]
     },
     "execution_count": 336,
     "metadata": {},
     "output_type": "execute_result"
    }
   ],
   "source": [
    "# Remove redundant materialism column\n",
    "dfx = dfx.drop('MATERIALISM_1', axis=1)\n",
    "\n",
    "# Extract relevant columns and create DataFrame containing them\n",
    "self_control_cols = [col for col in df if col.startswith('SELFCONTROL')]\n",
    "\n",
    "self_control_df = df[self_control_cols]\n",
    "\n",
    "# Create a correlation matrix using Spearman method (ordinal variables)\n",
    "self_control_corr_matrix = self_control_df.corr(method='spearman')\n",
    "self_control_corr_matrix"
   ]
  },
  {
   "cell_type": "markdown",
   "metadata": {},
   "source": [
    "We can see all of these variables are weakly correlated, so let's include all of them. \n",
    "\n",
    "There are also two variable dealing with retirement accounts whose values we would like to change. The default values are 0 (not automated), 1 (automated), and 2 (I do not have this type of account) for AUTOMATED_1 (a retirement savings account) and AUTOMATED_2 (a non-retirement savings account). We are more interested in whether a respondent has this type of account or not. We deal with null values by turning them into True values, since these are more common than False are."
   ]
  },
  {
   "cell_type": "code",
   "execution_count": 337,
   "metadata": {
    "collapsed": true
   },
   "outputs": [],
   "source": [
    "# Create variables for having a savings account\n",
    "dfx['SAVINGS_RETIREMENT'] = (dfx['AUTOMATED_1'] != 7)\n",
    "dfx['SAVINGS_NON_RETIREMENT '] = (dfx['AUTOMATED_2'] != 7)\n",
    "# Remove original columns\n",
    "dfx.drop(['AUTOMATED_1', 'AUTOMATED_2'], axis=1, inplace=True)"
   ]
  },
  {
   "cell_type": "markdown",
   "metadata": {},
   "source": [
    "Now we can deal with null values. All of our null values are now encoded as -1. "
   ]
  },
  {
   "cell_type": "code",
   "execution_count": 338,
   "metadata": {},
   "outputs": [
    {
     "name": "stdout",
     "output_type": "stream",
     "text": [
      "Number of rows with null values: 1397\n",
      "Number of total rows: 6383\n"
     ]
    }
   ],
   "source": [
    "# Create Boolean showing whether row contains any null values\n",
    "row_contains_null = (dfx == -1).any(axis=1)\n",
    "# See how many rows contain null values\n",
    "num_nulls = np.sum(row_contains_null)\n",
    "\n",
    "print('Number of rows with null values: {}'.format(num_nulls))\n",
    "print('Number of total rows: {}'.format(len(dfx)))"
   ]
  },
  {
   "cell_type": "markdown",
   "metadata": {},
   "source": [
    "We see that there a significant number of rows with at least one null value. Fortunately, when we look at the variable dictionary, we see that null values almost always account for less than 0.5% of responses, with an extremely rare maximum of 3%. In light of this rarity, I decided to impute the null values with the most common value of that variable instead of removing those respondents completely. "
   ]
  },
  {
   "cell_type": "code",
   "execution_count": 339,
   "metadata": {},
   "outputs": [
    {
     "data": {
      "text/plain": [
       "0"
      ]
     },
     "execution_count": 339,
     "metadata": {},
     "output_type": "execute_result"
    }
   ],
   "source": [
    "# Replace -1 with NaNs\n",
    "dfx.replace(-1, np.nan, inplace=True)\n",
    "# Fill NA's with most common value for that variable\n",
    "dfx = dfx.fillna(dfx.mode().iloc[0])\n",
    "# Check how many null values we have left\n",
    "dfx.isnull().sum().sum()"
   ]
  },
  {
   "cell_type": "markdown",
   "metadata": {},
   "source": [
    "# Feature Selection\n",
    "\n",
    "We'd like to do some scaling in prepraration for using shrinkage methods. Since our data is not normally distributed and doesn't contain outliers (the data are categorical or ordinal), we'll use min-max scaling."
   ]
  },
  {
   "cell_type": "code",
   "execution_count": 340,
   "metadata": {},
   "outputs": [
    {
     "name": "stdout",
     "output_type": "stream",
     "text": [
      "FRUGALITY [ 1.   0.8  0.6  0.4  0.   0.2]\n",
      "ASK1_1 [ 0.75  0.5   1.    0.    0.25]\n",
      "ASK1_2 [ 0.5   0.25  0.75  0.    1.  ]\n",
      "CHANGEABLE [ 0.5         0.16666667  0.83333333  0.          0.66666667  0.33333333\n",
      "  1.        ]\n",
      "CONSPROTECT1 [ 0.66666667  0.33333333  0.          1.        ]\n"
     ]
    }
   ],
   "source": [
    "from sklearn.preprocessing import MinMaxScaler\n",
    "\n",
    "# Use a min-max scaler on our data\n",
    "scaler=MinMaxScaler()\n",
    "scaled_dfx = scaler.fit_transform(dfx)\n",
    "scaled_dfx = pd.DataFrame(scaled_dfx, columns=dfx.columns)\n",
    "\n",
    "# Inspect subset of scaled data\n",
    "for col in scaled_dfx.columns[15:20]:\n",
    "    print(col, scaled_dfx[col].unique())"
   ]
  },
  {
   "cell_type": "markdown",
   "metadata": {},
   "source": [
    "I suspected that some of our coefficients were highly correlated, so I didn't want to default to using Lasso as our shrinkage method, which is sensitive to such a condition. I instead used Elastic Net with cross-validation to find a good L1 ratio. The L1 ratio ended up being low, significantly favoring Ridge regression as I anticipated."
   ]
  },
  {
   "cell_type": "code",
   "execution_count": 341,
   "metadata": {},
   "outputs": [
    {
     "data": {
      "text/plain": [
       "0.25"
      ]
     },
     "execution_count": 341,
     "metadata": {},
     "output_type": "execute_result"
    }
   ],
   "source": [
    "from sklearn.linear_model import ElasticNetCV\n",
    "\n",
    "# Create arrays for X and y values\n",
    "X = scaled_dfx.values\n",
    "y = df['target'].values\n",
    "\n",
    "# Use ElasticNet with 5 cross-validation folds \n",
    "elastic_net = ElasticNetCV([.025, .05, .1, .25, .5, .75, .9], cv=10)\n",
    "elastic_net.fit(X, y)\n",
    "# Look at L1 ratio\n",
    "elastic_net.l1_ratio_"
   ]
  },
  {
   "cell_type": "code",
   "execution_count": 342,
   "metadata": {},
   "outputs": [
    {
     "data": {
      "text/plain": [
       "[('ACT1_2', 0.30234376880906744),\n",
       " ('MANAGE1_3', 0.18446364832344025),\n",
       " ('FS1_7', 0.17735456762921867),\n",
       " ('PPINCIMP', 0.17453589546351023),\n",
       " ('FS1_2', 0.13320024834619423),\n",
       " ('MATHARDSHIP_6', 0.10823321068162108),\n",
       " ('PROPPLAN_2', 0.099392056940950727),\n",
       " ('FS1_5', 0.094542035485121245),\n",
       " ('SCFHORIZON', 0.088641958630620341),\n",
       " ('FS1_6', 0.082958620836839636)]"
      ]
     },
     "execution_count": 342,
     "metadata": {},
     "output_type": "execute_result"
    }
   ],
   "source": [
    "# Create a list of tuples containing variables and their coefficients\n",
    "\n",
    "# Initialize an empty list\n",
    "coefficients = []\n",
    "\n",
    "# Populate this list with variable names and absolute values of coefficients (for sorting)\n",
    "for i, variable in enumerate(dfx.columns):\n",
    "    coefficients.append((variable, abs(elastic_net.coef_[i])))\n",
    "    \n",
    "# Sort the variables from highest to lowest coefficient values\n",
    "coefficients.sort(key=lambda x: x[1], reverse=True)\n",
    "\n",
    "# Look at top 10 variables\n",
    "coefficients[:10]"
   ]
  },
  {
   "cell_type": "markdown",
   "metadata": {},
   "source": [
    "Interestingly, the only demographic variable to appear is income. Let's split our variables into two groups: those related to financial behaviors/attitudes and demographic variables. Then we can see how often they appear in the top variables. "
   ]
  },
  {
   "cell_type": "code",
   "execution_count": 343,
   "metadata": {},
   "outputs": [
    {
     "name": "stdout",
     "output_type": "stream",
     "text": [
      "Demographic variables in top 10 variables: 1\n",
      "Demographic variables in top 20 variables: 4\n",
      "Demographic variables in top 30 variables: 9\n"
     ]
    }
   ],
   "source": [
    "# Extract financial and demographic columns\n",
    "financial_cols = list(dfx.loc[:,'FS1_1':'PEM'].columns) + ['SAVINGS_RETIREMENT', 'SAVINGS_NON_RETIREMENT']\n",
    "demographic_cols = list(dfx.loc[:,'HHEDUC':'PPREG9'].columns)\n",
    "\n",
    "# Look at top 10, 20, and 30 variables\n",
    "for n in [10, 20, 30]:\n",
    "    # Initialize count to 0\n",
    "    demographic_count = 0\n",
    "    \n",
    "    for pair in coefficients[:n]:\n",
    "        # If variable name is demographic\n",
    "        if pair[0] in demographic_cols:\n",
    "            # Add 1 to our count\n",
    "            demographic_count += 1\n",
    "\n",
    "    print(\"Demographic variables in top {} variables: {}\".format(n, demographic_count))"
   ]
  },
  {
   "cell_type": "code",
   "execution_count": 361,
   "metadata": {},
   "outputs": [
    {
     "name": "stdout",
     "output_type": "stream",
     "text": [
      "['PPINCIMP', 'EMPLOY1_5', 'PPHHSIZE', 'Military_Status']\n"
     ]
    }
   ],
   "source": [
    "# Get top demographic variables\n",
    "\n",
    "# Initialize empty list\n",
    "demographic_x = []\n",
    "\n",
    "# Collect top demographic variables from top 20\n",
    "for pair in coefficients[:20]:\n",
    "    if pair[0] in demographic_cols:\n",
    "        demographic_x.append(pair[0])\n",
    "\n",
    "# Look at top demographic variables\n",
    "print(demographic_x)"
   ]
  },
  {
   "cell_type": "code",
   "execution_count": 362,
   "metadata": {},
   "outputs": [
    {
     "name": "stdout",
     "output_type": "stream",
     "text": [
      "['ACT1_2', 'MANAGE1_3', 'FS1_7', 'FS1_2']\n"
     ]
    }
   ],
   "source": [
    "# Get top financial variables\n",
    "\n",
    "# Initialize empty list\n",
    "financial_x = []\n",
    "\n",
    "# Collect top financial variables from top 5\n",
    "for pair in coefficients[:5]:\n",
    "    if pair[0] in financial_cols:\n",
    "        financial_x.append(pair[0])\n",
    "\n",
    "# Look at top demographic variables\n",
    "print(financial_x)"
   ]
  },
  {
   "cell_type": "markdown",
   "metadata": {},
   "source": [
    "We see that income, household size, whether the respondent is a student, and age are the 3 variables most associated with our target variable (according to elastic net). Looking at financial behaviors, we see that the top variables are following through on financial goals, the frequency of paying off one's monthly credit balance, income, knowing how to save, and knowing where to go for financial advice. Knowing to how to save is a bit too obvious, so we can dispense with this variable and add another variable. I decided skip the next highest variable, about utilities being shut off because of non-payment, and add the one after it related to budgeting because its relationship to our other variables was more interesting. Let's examine the multicollinearity of these variables using their VIFs."
   ]
  },
  {
   "cell_type": "code",
   "execution_count": 386,
   "metadata": {
    "collapsed": true
   },
   "outputs": [],
   "source": [
    "# Prepare data for calculating VIF factors\n",
    "\n",
    "# Create DataFrame of financial variables\n",
    "financial_df = dfx[financial_x]\n",
    "# Turn into array\n",
    "X_financial = financial_df.values\n",
    "\n",
    "# Create DataFrame of demographic variables\n",
    "demographic_df = dfx[demographic_x]\n",
    "# Turn into array\n",
    "X_demographic = demographic_df.values"
   ]
  },
  {
   "cell_type": "code",
   "execution_count": 387,
   "metadata": {},
   "outputs": [
    {
     "data": {
      "text/html": [
       "<div>\n",
       "<style>\n",
       "    .dataframe thead tr:only-child th {\n",
       "        text-align: right;\n",
       "    }\n",
       "\n",
       "    .dataframe thead th {\n",
       "        text-align: left;\n",
       "    }\n",
       "\n",
       "    .dataframe tbody tr th {\n",
       "        vertical-align: top;\n",
       "    }\n",
       "</style>\n",
       "<table border=\"1\" class=\"dataframe\">\n",
       "  <thead>\n",
       "    <tr style=\"text-align: right;\">\n",
       "      <th></th>\n",
       "      <th>VIF</th>\n",
       "      <th>features</th>\n",
       "    </tr>\n",
       "  </thead>\n",
       "  <tbody>\n",
       "    <tr>\n",
       "      <th>0</th>\n",
       "      <td>30.703462</td>\n",
       "      <td>ACT1_2</td>\n",
       "    </tr>\n",
       "    <tr>\n",
       "      <th>1</th>\n",
       "      <td>8.314138</td>\n",
       "      <td>MANAGE1_3</td>\n",
       "    </tr>\n",
       "    <tr>\n",
       "      <th>2</th>\n",
       "      <td>28.282349</td>\n",
       "      <td>FS1_7</td>\n",
       "    </tr>\n",
       "    <tr>\n",
       "      <th>3</th>\n",
       "      <td>17.769152</td>\n",
       "      <td>FS1_2</td>\n",
       "    </tr>\n",
       "    <tr>\n",
       "      <th>4</th>\n",
       "      <td>5.985020</td>\n",
       "      <td>PPINCIMP</td>\n",
       "    </tr>\n",
       "    <tr>\n",
       "      <th>5</th>\n",
       "      <td>1.058268</td>\n",
       "      <td>EMPLOY1_5</td>\n",
       "    </tr>\n",
       "    <tr>\n",
       "      <th>6</th>\n",
       "      <td>5.154544</td>\n",
       "      <td>PPHHSIZE</td>\n",
       "    </tr>\n",
       "    <tr>\n",
       "      <th>7</th>\n",
       "      <td>11.635814</td>\n",
       "      <td>Military_Status</td>\n",
       "    </tr>\n",
       "  </tbody>\n",
       "</table>\n",
       "</div>"
      ],
      "text/plain": [
       "         VIF         features\n",
       "0  30.703462           ACT1_2\n",
       "1   8.314138        MANAGE1_3\n",
       "2  28.282349            FS1_7\n",
       "3  17.769152            FS1_2\n",
       "4   5.985020         PPINCIMP\n",
       "5   1.058268        EMPLOY1_5\n",
       "6   5.154544         PPHHSIZE\n",
       "7  11.635814  Military_Status"
      ]
     },
     "execution_count": 387,
     "metadata": {},
     "output_type": "execute_result"
    }
   ],
   "source": [
    "# Aggregate financial and demographic data\n",
    "x_list = financial_x + demographic_x\n",
    "# Create DataFrame of both groups of variables \n",
    "subset_df = dfx[x_list]\n",
    "# Turn into array\n",
    "X = subset_df.values\n",
    "\n",
    "# Look at VIFs for aggregated data\n",
    "vif = pd.DataFrame()\n",
    "vif[\"VIF\"] = [variance_inflation_factor(X, i) for i in range(X.shape[1])]\n",
    "vif[\"features\"] = subset_df.columns\n",
    "vif"
   ]
  },
  {
   "cell_type": "markdown",
   "metadata": {},
   "source": [
    "There is a lot of multicollinearity in the aggregated data, so I removed variables with the highest VIFs, sometimes removing the less interesting variable if scores were close, until all of them were sufficiently low (<10)."
   ]
  },
  {
   "cell_type": "code",
   "execution_count": 388,
   "metadata": {},
   "outputs": [
    {
     "data": {
      "text/html": [
       "<div>\n",
       "<style>\n",
       "    .dataframe thead tr:only-child th {\n",
       "        text-align: right;\n",
       "    }\n",
       "\n",
       "    .dataframe thead th {\n",
       "        text-align: left;\n",
       "    }\n",
       "\n",
       "    .dataframe tbody tr th {\n",
       "        vertical-align: top;\n",
       "    }\n",
       "</style>\n",
       "<table border=\"1\" class=\"dataframe\">\n",
       "  <thead>\n",
       "    <tr style=\"text-align: right;\">\n",
       "      <th></th>\n",
       "      <th>VIF</th>\n",
       "      <th>features</th>\n",
       "    </tr>\n",
       "  </thead>\n",
       "  <tbody>\n",
       "    <tr>\n",
       "      <th>0</th>\n",
       "      <td>7.833288</td>\n",
       "      <td>MANAGE1_3</td>\n",
       "    </tr>\n",
       "    <tr>\n",
       "      <th>1</th>\n",
       "      <td>20.815990</td>\n",
       "      <td>FS1_7</td>\n",
       "    </tr>\n",
       "    <tr>\n",
       "      <th>2</th>\n",
       "      <td>16.347400</td>\n",
       "      <td>FS1_2</td>\n",
       "    </tr>\n",
       "    <tr>\n",
       "      <th>3</th>\n",
       "      <td>5.970706</td>\n",
       "      <td>PPINCIMP</td>\n",
       "    </tr>\n",
       "    <tr>\n",
       "      <th>4</th>\n",
       "      <td>1.058211</td>\n",
       "      <td>EMPLOY1_5</td>\n",
       "    </tr>\n",
       "    <tr>\n",
       "      <th>5</th>\n",
       "      <td>5.136591</td>\n",
       "      <td>PPHHSIZE</td>\n",
       "    </tr>\n",
       "    <tr>\n",
       "      <th>6</th>\n",
       "      <td>11.125703</td>\n",
       "      <td>Military_Status</td>\n",
       "    </tr>\n",
       "  </tbody>\n",
       "</table>\n",
       "</div>"
      ],
      "text/plain": [
       "         VIF         features\n",
       "0   7.833288        MANAGE1_3\n",
       "1  20.815990            FS1_7\n",
       "2  16.347400            FS1_2\n",
       "3   5.970706         PPINCIMP\n",
       "4   1.058211        EMPLOY1_5\n",
       "5   5.136591         PPHHSIZE\n",
       "6  11.125703  Military_Status"
      ]
     },
     "execution_count": 388,
     "metadata": {},
     "output_type": "execute_result"
    }
   ],
   "source": [
    "# Remove variables with high VIFs\n",
    "x_list.remove('ACT1_2')\n",
    "\n",
    "# Create DataFrame of both groups of variables \n",
    "subset_df = dfx[x_list]\n",
    "# Turn into array\n",
    "X = subset_df.values\n",
    "\n",
    "# Look at VIFs for aggregated data\n",
    "vif = pd.DataFrame()\n",
    "vif[\"VIF\"] = [variance_inflation_factor(X, i) for i in range(X.shape[1])]\n",
    "vif[\"features\"] = subset_df.columns\n",
    "vif"
   ]
  },
  {
   "cell_type": "code",
   "execution_count": 389,
   "metadata": {},
   "outputs": [
    {
     "data": {
      "text/html": [
       "<div>\n",
       "<style>\n",
       "    .dataframe thead tr:only-child th {\n",
       "        text-align: right;\n",
       "    }\n",
       "\n",
       "    .dataframe thead th {\n",
       "        text-align: left;\n",
       "    }\n",
       "\n",
       "    .dataframe tbody tr th {\n",
       "        vertical-align: top;\n",
       "    }\n",
       "</style>\n",
       "<table border=\"1\" class=\"dataframe\">\n",
       "  <thead>\n",
       "    <tr style=\"text-align: right;\">\n",
       "      <th></th>\n",
       "      <th>VIF</th>\n",
       "      <th>features</th>\n",
       "    </tr>\n",
       "  </thead>\n",
       "  <tbody>\n",
       "    <tr>\n",
       "      <th>0</th>\n",
       "      <td>6.880089</td>\n",
       "      <td>MANAGE1_3</td>\n",
       "    </tr>\n",
       "    <tr>\n",
       "      <th>1</th>\n",
       "      <td>11.238580</td>\n",
       "      <td>FS1_2</td>\n",
       "    </tr>\n",
       "    <tr>\n",
       "      <th>2</th>\n",
       "      <td>5.912018</td>\n",
       "      <td>PPINCIMP</td>\n",
       "    </tr>\n",
       "    <tr>\n",
       "      <th>3</th>\n",
       "      <td>1.058115</td>\n",
       "      <td>EMPLOY1_5</td>\n",
       "    </tr>\n",
       "    <tr>\n",
       "      <th>4</th>\n",
       "      <td>5.103822</td>\n",
       "      <td>PPHHSIZE</td>\n",
       "    </tr>\n",
       "    <tr>\n",
       "      <th>5</th>\n",
       "      <td>10.237828</td>\n",
       "      <td>Military_Status</td>\n",
       "    </tr>\n",
       "  </tbody>\n",
       "</table>\n",
       "</div>"
      ],
      "text/plain": [
       "         VIF         features\n",
       "0   6.880089        MANAGE1_3\n",
       "1  11.238580            FS1_2\n",
       "2   5.912018         PPINCIMP\n",
       "3   1.058115        EMPLOY1_5\n",
       "4   5.103822         PPHHSIZE\n",
       "5  10.237828  Military_Status"
      ]
     },
     "execution_count": 389,
     "metadata": {},
     "output_type": "execute_result"
    }
   ],
   "source": [
    "# Remove variables with high VIFs\n",
    "x_list.remove('FS1_7')\n",
    "\n",
    "# Create DataFrame of both groups of variables \n",
    "subset_df = dfx[x_list]\n",
    "# Turn into array\n",
    "X = subset_df.values\n",
    "\n",
    "# Look at VIFs for aggregated data\n",
    "vif = pd.DataFrame()\n",
    "vif[\"VIF\"] = [variance_inflation_factor(X, i) for i in range(X.shape[1])]\n",
    "vif[\"features\"] = subset_df.columns\n",
    "vif"
   ]
  },
  {
   "cell_type": "code",
   "execution_count": 390,
   "metadata": {},
   "outputs": [
    {
     "data": {
      "text/html": [
       "<div>\n",
       "<style>\n",
       "    .dataframe thead tr:only-child th {\n",
       "        text-align: right;\n",
       "    }\n",
       "\n",
       "    .dataframe thead th {\n",
       "        text-align: left;\n",
       "    }\n",
       "\n",
       "    .dataframe tbody tr th {\n",
       "        vertical-align: top;\n",
       "    }\n",
       "</style>\n",
       "<table border=\"1\" class=\"dataframe\">\n",
       "  <thead>\n",
       "    <tr style=\"text-align: right;\">\n",
       "      <th></th>\n",
       "      <th>VIF</th>\n",
       "      <th>features</th>\n",
       "    </tr>\n",
       "  </thead>\n",
       "  <tbody>\n",
       "    <tr>\n",
       "      <th>0</th>\n",
       "      <td>6.657379</td>\n",
       "      <td>MANAGE1_3</td>\n",
       "    </tr>\n",
       "    <tr>\n",
       "      <th>1</th>\n",
       "      <td>8.935435</td>\n",
       "      <td>FS1_2</td>\n",
       "    </tr>\n",
       "    <tr>\n",
       "      <th>2</th>\n",
       "      <td>5.876181</td>\n",
       "      <td>PPINCIMP</td>\n",
       "    </tr>\n",
       "    <tr>\n",
       "      <th>3</th>\n",
       "      <td>1.053330</td>\n",
       "      <td>EMPLOY1_5</td>\n",
       "    </tr>\n",
       "    <tr>\n",
       "      <th>4</th>\n",
       "      <td>4.122263</td>\n",
       "      <td>PPHHSIZE</td>\n",
       "    </tr>\n",
       "  </tbody>\n",
       "</table>\n",
       "</div>"
      ],
      "text/plain": [
       "        VIF   features\n",
       "0  6.657379  MANAGE1_3\n",
       "1  8.935435      FS1_2\n",
       "2  5.876181   PPINCIMP\n",
       "3  1.053330  EMPLOY1_5\n",
       "4  4.122263   PPHHSIZE"
      ]
     },
     "execution_count": 390,
     "metadata": {},
     "output_type": "execute_result"
    }
   ],
   "source": [
    "# Remove variables with high VIFs\n",
    "x_list.remove('Military_Status')\n",
    "\n",
    "# Create DataFrame of both groups of variables \n",
    "subset_df = dfx[x_list]\n",
    "# Turn into array\n",
    "X = subset_df.values\n",
    "\n",
    "# Look at VIFs for aggregated data\n",
    "vif = pd.DataFrame()\n",
    "vif[\"VIF\"] = [variance_inflation_factor(X, i) for i in range(X.shape[1])]\n",
    "vif[\"features\"] = subset_df.columns\n",
    "vif"
   ]
  },
  {
   "cell_type": "markdown",
   "metadata": {},
   "source": [
    "Because I was still interested in the ACT1_2, I found another set of variables which contained ACT1_2 that had low enough VIFs (<10) that the issue of multicollinearity would not be very problematic."
   ]
  },
  {
   "cell_type": "code",
   "execution_count": 406,
   "metadata": {},
   "outputs": [
    {
     "data": {
      "text/html": [
       "<div>\n",
       "<style>\n",
       "    .dataframe thead tr:only-child th {\n",
       "        text-align: right;\n",
       "    }\n",
       "\n",
       "    .dataframe thead th {\n",
       "        text-align: left;\n",
       "    }\n",
       "\n",
       "    .dataframe tbody tr th {\n",
       "        vertical-align: top;\n",
       "    }\n",
       "</style>\n",
       "<table border=\"1\" class=\"dataframe\">\n",
       "  <thead>\n",
       "    <tr style=\"text-align: right;\">\n",
       "      <th></th>\n",
       "      <th>VIF</th>\n",
       "      <th>features</th>\n",
       "    </tr>\n",
       "  </thead>\n",
       "  <tbody>\n",
       "    <tr>\n",
       "      <th>0</th>\n",
       "      <td>9.601904</td>\n",
       "      <td>ACT1_2</td>\n",
       "    </tr>\n",
       "    <tr>\n",
       "      <th>1</th>\n",
       "      <td>7.902008</td>\n",
       "      <td>MANAGE1_3</td>\n",
       "    </tr>\n",
       "    <tr>\n",
       "      <th>2</th>\n",
       "      <td>5.374284</td>\n",
       "      <td>PPINCIMP</td>\n",
       "    </tr>\n",
       "    <tr>\n",
       "      <th>3</th>\n",
       "      <td>1.040406</td>\n",
       "      <td>EMPLOY1_5</td>\n",
       "    </tr>\n",
       "  </tbody>\n",
       "</table>\n",
       "</div>"
      ],
      "text/plain": [
       "        VIF   features\n",
       "0  9.601904     ACT1_2\n",
       "1  7.902008  MANAGE1_3\n",
       "2  5.374284   PPINCIMP\n",
       "3  1.040406  EMPLOY1_5"
      ]
     },
     "execution_count": 406,
     "metadata": {},
     "output_type": "execute_result"
    }
   ],
   "source": [
    "x_list = ['ACT1_2', 'MANAGE1_3', 'PPINCIMP', 'EMPLOY1_5'] \n",
    "\n",
    "# Create DataFrame of financial variables\n",
    "subset_df = dfx[x_list]\n",
    "# Turn into array\n",
    "X_subset = subset_df.values\n",
    "\n",
    "# Recalculate VIFs\n",
    "vif = pd.DataFrame()\n",
    "vif[\"VIF\"] = [variance_inflation_factor(X_subset, i) for i in range(X_subset.shape[1])]\n",
    "vif[\"features\"] = subset_df.columns\n",
    "vif"
   ]
  },
  {
   "cell_type": "markdown",
   "metadata": {},
   "source": [
    "Now that we have a list of variables we might want to include in our model, we can look at their relationship with out output variable (keeping in mind these single-variable analyses are done without considering the effect of any other variables)."
   ]
  },
  {
   "cell_type": "code",
   "execution_count": 392,
   "metadata": {},
   "outputs": [
    {
     "data": {
      "image/png": "[encoded data removed]",
      "text/plain": [
       "<matplotlib.figure.Figure at 0x7feb43f23048>"
      ]
     },
     "metadata": {},
     "output_type": "display_data"
    }
   ],
   "source": [
    "# Remove respondents who refused to answer\n",
    "act_df = df[df['ACT1_2'] != -1]\n",
    "\n",
    "# Get x and y values\n",
    "x_vals, y_vals = percentages_of_true_across_categories('ACT1_2', act_df)\n",
    "\n",
    "# Create bar graph\n",
    "plt.bar(x_vals, y_vals)\n",
    "plt.title('Relating Following Through Financially and Handling Unexpected Expenses')\n",
    "plt.xlabel('Do You Follow Through on Your Financial Goals?')\n",
    "plt.ylabel('% Can Handle Unexpected Expense')\n",
    "x_labels = ['Not at all', 'Very little', 'Somew', 'Often', 'Always']\n",
    "plt.xticks(x_vals, x_labels, rotation=30)\n",
    "plt.show()"
   ]
  },
  {
   "cell_type": "code",
   "execution_count": 393,
   "metadata": {},
   "outputs": [
    {
     "data": {
      "image/png": "[encoded data removed]",
      "text/plain": [
       "<matplotlib.figure.Figure at 0x7feb527f4940>"
      ]
     },
     "metadata": {},
     "output_type": "display_data"
    }
   ],
   "source": [
    "# Remove respondents who refused to answer\n",
    "manage_df = df[df['MANAGE1_3'] != -1]\n",
    "\n",
    "# Get x and y values\n",
    "x_vals, y_vals = percentages_of_true_across_categories('MANAGE1_3', manage_df)\n",
    "\n",
    "# Create bar graph\n",
    "plt.bar(x_vals, y_vals)\n",
    "plt.title('Relating Paying off Credit and Handling Unexpected Expenses')\n",
    "plt.xlabel('Frequency of Paying off Monthly Credit Card Balance')\n",
    "plt.ylabel('% Can Handle Unexpected Expense')\n",
    "x_labels = ['Not applicable or never', 'Seldom', 'Sometimes', 'Often', 'Always']\n",
    "plt.xticks(x_vals, x_labels, rotation=30)\n",
    "plt.show()"
   ]
  },
  {
   "cell_type": "code",
   "execution_count": 395,
   "metadata": {},
   "outputs": [
    {
     "data": {
      "image/png": "[encoded data removed]",
      "text/plain": [
       "<matplotlib.figure.Figure at 0x7feb43f31550>"
      ]
     },
     "metadata": {},
     "output_type": "display_data"
    }
   ],
   "source": [
    "# Remove respondents who refused to answer\n",
    "hh_df = df[df['PPHHSIZE'] != -1]\n",
    "\n",
    "# Get x and y values\n",
    "x_vals, y_vals = percentages_of_true_across_categories('PPHHSIZE', hh_df)\n",
    "\n",
    "# Create bar graph\n",
    "plt.bar(x_vals, y_vals)\n",
    "plt.title('Relating Household Size and Handling Unexpected Expenses')\n",
    "plt.xlabel('Household Size')\n",
    "plt.ylabel('% Can Handle Unexpected Expense')\n",
    "x_labels = ['1', '2', '3', '4', '5+']\n",
    "plt.xticks(x_vals, x_labels)\n",
    "plt.show()"
   ]
  },
  {
   "cell_type": "code",
   "execution_count": 396,
   "metadata": {},
   "outputs": [
    {
     "data": {
      "image/png": "[encoded data removed]",
      "text/plain": [
       "<matplotlib.figure.Figure at 0x7feb4862d710>"
      ]
     },
     "metadata": {},
     "output_type": "display_data"
    }
   ],
   "source": [
    "# Get x and y values\n",
    "x_vals, y_vals = percentages_of_true_across_categories('EMPLOY1_5', df)\n",
    "\n",
    "# Create bar graph\n",
    "plt.bar(x_vals, y_vals)\n",
    "plt.title('Relating Being a Student and Handling Unexpected Expenses')\n",
    "plt.xlabel('Full-Time Student')\n",
    "plt.ylabel('% Can Handle Unexpected Expense')\n",
    "x_labels = ['No', 'Yes']\n",
    "plt.xticks(x_vals, x_labels)\n",
    "plt.show()"
   ]
  },
  {
   "cell_type": "markdown",
   "metadata": {},
   "source": [
    "We can see that most of these variables are very clearly associated with our target variable. The only slight exception is household size. However, his might interact with the other variables in a way that is predictive of confidence in handling unexpected expenses. For example, we see a clear pattern between household size and our output variable for people with incomes from $100k-150k."
   ]
  },
  {
   "cell_type": "code",
   "execution_count": null,
   "metadata": {
    "collapsed": true
   },
   "outputs": [],
   "source": []
  }
 ],
 "metadata": {
  "kernelspec": {
   "display_name": "Python 3",
   "language": "python",
   "name": "python3"
  },
  "language_info": {
   "codemirror_mode": {
    "name": "ipython",
    "version": 3
   },
   "file_extension": ".py",
   "mimetype": "text/x-python",
   "name": "python",
   "nbconvert_exporter": "python",
   "pygments_lexer": "ipython3",
   "version": "3.6.3"
  }
 },
 "nbformat": 4,
 "nbformat_minor": 2
}
