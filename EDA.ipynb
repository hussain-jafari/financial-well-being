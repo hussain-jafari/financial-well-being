{
 "cells": [
  {
   "cell_type": "markdown",
   "metadata": {},
   "source": [
    "# Exploratory Data Analysis"
   ]
  },
  {
   "cell_type": "markdown",
   "metadata": {
    "collapsed": true
   },
   "source": [
    "A variable dictionary can be found at https://s3.amazonaws.com/files.consumerfinance.gov/f/documents/cfpb_nfwbs-puf-codebook.pdf"
   ]
  },
  {
   "cell_type": "code",
   "execution_count": 32,
   "metadata": {
    "collapsed": true
   },
   "outputs": [],
   "source": [
    "import pandas as pd\n",
    "import numpy as np\n",
    "import matplotlib.pyplot as plt \n",
    "import seaborn as sns\n",
    "from scipy.stats import ttest_ind\n",
    "from scipy.stats import chi2_contingency\n",
    "from sklearn.ensemble import RandomForestClassifier"
   ]
  },
  {
   "cell_type": "markdown",
   "metadata": {},
   "source": [
    "The output variable I am interested in is one's ability to handle an unexpected financial expense. Originally a 5-point ordinal variable, I encoded it as a Boolean variable 'target' that is True if the response was 4 or 5, indicating high confidence in one's ability to handle unexpected expenses. "
   ]
  },
  {
   "cell_type": "code",
   "execution_count": 2,
   "metadata": {
    "collapsed": true
   },
   "outputs": [],
   "source": [
    "#Create dataframe df containing data and 'target' column \n",
    "df = pd.read_csv('NFWBS_PUF_2016_data.csv')\n",
    "\n",
    "#Remove rows with nonsensical or uncertain responses  \n",
    "mask1 = (df['HOUSERANGES'] < 98) & (df['VALUERANGES'] < 98) & (df['VALUERANGES'] > -1)\n",
    "mask2 = (df['MORTGAGE'] < 98) & (df['MORTGAGE'] > -1) & (df['SAVINGSRANGES'] < 98)\n",
    "mask3 = (df['SNAP'] < 8) & (df['ABSORBSHOCK'] < 8) & (df['FRAUD2'] < 8) \n",
    "df = df[mask1 & mask2 & mask3]\n",
    "\n",
    "#True corresponds to confidence in ability to handle an unexpected financial expense\n",
    "df['target'] = df['FWB1_1'] > 3"
   ]
  },
  {
   "cell_type": "markdown",
   "metadata": {},
   "source": [
    "Because there were so many features in this data set (217, to be exact), I decided to use a random forest to act as an initial screen for what variables I would be exploring. I then selected what variables to explore on the basis of multicollinearity and some context/intuition. "
   ]
  },
  {
   "cell_type": "code",
   "execution_count": 3,
   "metadata": {
    "collapsed": true
   },
   "outputs": [],
   "source": [
    "#Remove columns containing financial well being scores and other irrelevant/redundant columns or those with few responses\n",
    "fwb_cols = [col for col in df if col.startswith('FWB')]\n",
    "swb_cols = [col for col in df if col.startswith('SWB')]\n",
    "kh_cols = [col for col in df if col.startswith('KHK')]\n",
    "employ_cols = [col for col in df if col.startswith('EMPLOY1')]\n",
    "single_cols = ['PUF_ID', 'finalwt', 'target', 'FSscore', 'PAIDHELP', 'HSLOC', 'RETIRE', 'SOCSEC2', 'SOCSEC3']\n",
    "dfx = df.drop(fwb_cols + swb_cols + kh_cols + employ_cols + single_cols, axis=1)\n",
    "\n",
    "#Convert relevant columns into categorical variables\n",
    "cat_cols = ['HOUSING', 'LIVINGARRANGEMENT', 'AUTOMATED_1', 'AUTOMATED_2', 'COVERCOSTS', 'MANAGE2', 'EMPLOY']\n",
    "pp_cols = [col for col in df if col.startswith('PP')]\n",
    "for col in cat_cols + pp_cols:\n",
    "    dfx[col] = dfx[col].astype('category')\n",
    "    \n",
    "#Create X and y values\n",
    "X = dfx.values\n",
    "y = df['target'].values"
   ]
  },
  {
   "cell_type": "code",
   "execution_count": 91,
   "metadata": {
    "collapsed": true
   },
   "outputs": [],
   "source": [
    "from sklearn.ensemble import RandomForestClassifier\n",
    " \n",
    "#use logistic regression as the model\n",
    "rf = RandomForestClassifier()\n",
    "#rank all features, i.e continue the elimination until the last one\n",
    "rf.fit(X,y)\n",
    " \n",
    "idx = np.argsort(rf.feature_importances_)[::-1]"
   ]
  },
  {
   "cell_type": "code",
   "execution_count": 152,
   "metadata": {},
   "outputs": [
    {
     "name": "stdout",
     "output_type": "stream",
     "text": [
      "1 SAVINGSRANGES\n",
      "2 ABSORBSHOCK\n",
      "3 GOALCONF\n",
      "4 ENDSMEET\n",
      "5 FS1_6\n",
      "6 SAVEHABIT\n",
      "7 FS1_1\n",
      "8 SUBKNOWL1\n",
      "9 PRODHAVE_6\n",
      "10 FS1_5\n",
      "11 MANAGE1_3\n",
      "12 FS1_2\n",
      "13 agecat\n",
      "14 CONNECT\n",
      "15 PPINCIMP\n",
      "16 ACT1_2\n",
      "17 PEM\n",
      "18 LIFEEXPECT\n",
      "19 MANAGE1_2\n",
      "20 KHscore\n",
      "21 CHANGEABLE\n",
      "22 FS1_7\n",
      "23 SCFHORIZON\n",
      "24 OUTLOOK_1\n",
      "25 DISTRESS\n",
      "26 FS1_4\n",
      "27 SUBNUMERACY2\n",
      "28 FS1_3\n",
      "29 OUTLOOK_2\n",
      "30 PAREDUC\n"
     ]
    }
   ],
   "source": [
    "features = dfx.columns[idx]\n",
    "for c, value in enumerate(features[:30]):\n",
    "    print(c+1, value)"
   ]
  },
  {
   "cell_type": "markdown",
   "metadata": {},
   "source": [
    "We can see from the output above that some of the variables heavily associated with our target variable are the ability to raise $2,000 in 30 days, the frequency of paying off one's monthly credit card balance, financial knowledge, and age."
   ]
  },
  {
   "cell_type": "code",
   "execution_count": 22,
   "metadata": {},
   "outputs": [
    {
     "data": {
      "image/png": "[encoded data removed]",
      "text/plain": [
       "<matplotlib.figure.Figure at 0x7f1e77ff0f60>"
      ]
     },
     "metadata": {},
     "output_type": "display_data"
    }
   ],
   "source": [
    "#Remove rows where response was 8 (corresponding to 'I don't know') or -1 (no response)\n",
    "dfabsorb = df[(df['ABSORBSHOCK'] != 8) & (df['ABSORBSHOCK'] != -1)]\n",
    "\n",
    "#Create table containing relevant values\n",
    "absorb_tab = pd.crosstab(dfabsorb['ABSORBSHOCK'], dfabsorb['target'])\n",
    "\n",
    "#Create x and y values to graph\n",
    "x_vals = np.arange(4) + 1\n",
    "x_labels = ['1', '2', '3', '4']\n",
    "absorb_vals = np.empty(4)\n",
    "for i in range(4):\n",
    "    #Calculate percentage of respondents who responded True for target variable, grouped by response\n",
    "    absorb_vals[i] = absorb_tab.loc[i+1, True] / np.sum(absorb_tab.iloc[i, 0:2])\n",
    "\n",
    "#Create bar graph \n",
    "plt.bar(x_vals, absorb_vals)\n",
    "plt.title('Relating Ability to Raise Money and Handling Unexpected Expenses')\n",
    "plt.xlabel('Ability to Raise $2k in 30 Days')\n",
    "plt.ylabel('% Can Handle Unexpected Expense')\n",
    "plt.xticks(x_vals, x_labels)\n",
    "plt.show()"
   ]
  },
  {
   "cell_type": "markdown",
   "metadata": {},
   "source": [
    "We can see that certainty in being able to raise $2,000 in 30 days causes a large spike of confidence in the ability to handle an unexpected expense, while certainly not being able to do so up to even probably being able to do so seem to inspire about equal levels of confidence. However, this relationship is quite obviously related to our target variable and serves as more of a sanity check. "
   ]
  },
  {
   "cell_type": "code",
   "execution_count": 23,
   "metadata": {},
   "outputs": [
    {
     "data": {
      "image/png": "[encoded data removed]",
      "text/plain": [
       "<matplotlib.figure.Figure at 0x7f1e77ff0908>"
      ]
     },
     "metadata": {},
     "output_type": "display_data"
    }
   ],
   "source": [
    "#Remove rows with no response\n",
    "dfmanage = df[df['MANAGE1_3'] != -1]\n",
    "\n",
    "#Create table with relevant values\n",
    "manage_tab = pd.crosstab(dfmanage['MANAGE1_3'], dfmanage['target'])\n",
    "\n",
    "#Create x and y values to graph\n",
    "x_vals = np.arange(5) + 1\n",
    "x_labels = ['N/A or Never', 'Seldom', 'Sometimes', 'Often', 'Always']\n",
    "manage_vals = np.empty(5)\n",
    "for i in range(5):\n",
    "    #Calculate percentage of respondents who responded True for target variable, grouped by response\n",
    "    manage_vals[i] = manage_tab.loc[i+1, True] / np.sum(manage_tab.iloc[i, 0:2])\n",
    "\n",
    "#Create bar graph\n",
    "plt.bar(x_vals, manage_vals)\n",
    "plt.title('Credit Card Balance and Unexpected Expenses')\n",
    "plt.xlabel('Frequency of Paying Off Monthly Credit Card Balance')\n",
    "plt.ylabel('% Can Handle Unexpected Expense')\n",
    "plt.xticks(x_vals, x_labels)\n",
    "plt.show()"
   ]
  },
  {
   "cell_type": "markdown",
   "metadata": {},
   "source": [
    "We can see a more gradual effect in paying off one's credit card balance in full every month on one's confidence in their ability to handle unexpected financial expenses."
   ]
  },
  {
   "cell_type": "code",
   "execution_count": 5,
   "metadata": {},
   "outputs": [
    {
     "data": {
      "image/png": "[encoded data removed]",
      "text/plain": [
       "<matplotlib.figure.Figure at 0x7f1e7f824f60>"
      ]
     },
     "metadata": {},
     "output_type": "display_data"
    }
   ],
   "source": [
    "df['KHbinscore'] = df['KHscore'] > 0\n",
    "\n",
    "#Create table with relevant values\n",
    "khscore_tab = pd.crosstab(df['KHbinscore'], df['target'])\n",
    "\n",
    "#Create x and y values to graph\n",
    "x_vals = np.arange(2) + 1\n",
    "x_labels = ['<median', '>median']\n",
    "khscore_vals = np.empty(2)\n",
    "for i in range(2):\n",
    "    #Calculate percentage of respondents who responded True for target variable, grouped by response\n",
    "    khscore_vals[i] = khscore_tab.iloc[i, 1] / np.sum(khscore_tab.iloc[i, 0:2])\n",
    "\n",
    "#Create bar graph\n",
    "plt.bar(x_vals, khscore_vals)\n",
    "plt.title('Relating Financial Knowledge and Handling Unexpected Expenses')\n",
    "plt.xlabel('Knoll and Houts Financial Knowledge Score')\n",
    "plt.ylabel('% Can Handle Unexpected Expense')\n",
    "plt.xticks(x_vals, x_labels)\n",
    "plt.show()"
   ]
  },
  {
   "cell_type": "code",
   "execution_count": 15,
   "metadata": {},
   "outputs": [
    {
     "name": "stdout",
     "output_type": "stream",
     "text": [
      "p-value: 4.604376084147507e-38\n"
     ]
    }
   ],
   "source": [
    "#Separate data by KH score\n",
    "df_lowscore = df[df['KHbinscore'] == 0]\n",
    "df_highscore = df[df['KHbinscore'] == 1]\n",
    "\n",
    "#Calculate p-value using t test \n",
    "stat, p = ttest_ind(df_highscore['target'], df_lowscore['target'], equal_var=False)\n",
    "\n",
    "print(\"p-value: {}\".format(p))"
   ]
  },
  {
   "cell_type": "markdown",
   "metadata": {},
   "source": [
    "After transforming our financial knowledge score into a binary variable, we can see that an above average score increases one's ability to an handle unexpected expense. About 30% more people with an above average score responded that they would be confident in such a situation than those with a below average score. A statistical analysis also supports the idea that this is a statistically significant difference."
   ]
  },
  {
   "cell_type": "code",
   "execution_count": 6,
   "metadata": {},
   "outputs": [
    {
     "data": {
      "image/png": "[encoded data removed]",
      "text/plain": [
       "<matplotlib.figure.Figure at 0x7fd8ec327518>"
      ]
     },
     "metadata": {},
     "output_type": "display_data"
    }
   ],
   "source": [
    "#Create table with relevant values\n",
    "age_tab = pd.crosstab(df['agecat'], df['target'])\n",
    "\n",
    "#Create x and y values to graph\n",
    "x_vals = np.arange(8) + 1\n",
    "x_labels = ['18-24', '25-34', '35-44', '45-54', '55-61', '62-69', '70-74', '75+']\n",
    "age_vals = np.empty(8)\n",
    "for i in range(8):\n",
    "    #Calculate percentage of respondents who responded True for target variable, grouped by response\n",
    "    age_vals[i] = age_tab.loc[i+1, True] / np.sum(age_tab.iloc[i, 0:2])\n",
    "\n",
    "#Create bar graph\n",
    "plt.bar(x_vals, age_vals)\n",
    "plt.title('Relating Age and Handling Unexpected Expenses')\n",
    "plt.xlabel('Age')\n",
    "plt.ylabel('% People Can Handle Unexpected Expense')\n",
    "plt.xticks(x_vals, x_labels)\n",
    "plt.show()"
   ]
  },
  {
   "cell_type": "markdown",
   "metadata": {
    "collapsed": true
   },
   "source": [
    "We see that age does correlate with our target variable, although the change between age groups isn't too drastic. However, there is a large gap between the 18-24 group and older, meaning that the vast majority of young people are not able to absorb financial shocks. Let's tranform age into a binary variable to reflect this difference."
   ]
  },
  {
   "cell_type": "code",
   "execution_count": 19,
   "metadata": {},
   "outputs": [
    {
     "data": {
      "image/png": "[encoded data removed]",
      "text/plain": [
       "<matplotlib.figure.Figure at 0x7f1e77ff0dd8>"
      ]
     },
     "metadata": {},
     "output_type": "display_data"
    }
   ],
   "source": [
    "df['age_binary'] = df['agecat'] > 1\n",
    "\n",
    "#Create table with relevant values\n",
    "agebin_tab = pd.crosstab(df['age_binary'], df['target'])\n",
    "\n",
    "#Create x and y values to graph\n",
    "x_vals = np.arange(2) + 1\n",
    "x_labels = ['18-24', '24+']\n",
    "agebin_vals = np.empty(2)\n",
    "for i in range(2):\n",
    "    #Calculate percentage of respondents who responded True for target variable, grouped by response\n",
    "    agebin_vals[i] = agebin_tab.iloc[i, 1] / np.sum(agebin_tab.iloc[i, 0:2])\n",
    "\n",
    "#Create bar graph\n",
    "plt.bar(x_vals, agebin_vals)\n",
    "plt.title('Relating Age and Handling Unexpected Expenses')\n",
    "plt.xlabel('Age')\n",
    "plt.ylabel('% Can Handle Unexpected Expense')\n",
    "plt.xticks(x_vals, x_labels)\n",
    "plt.show()"
   ]
  },
  {
   "cell_type": "code",
   "execution_count": 20,
   "metadata": {},
   "outputs": [
    {
     "name": "stdout",
     "output_type": "stream",
     "text": [
      "p-value: 0.0013298017973604644\n"
     ]
    }
   ],
   "source": [
    "#Separate data by KH score\n",
    "df_young = df[df['age_binary'] == 0]\n",
    "df_old = df[df['age_binary'] == 1]\n",
    "\n",
    "#Calculate p-value using t test \n",
    "stat, p = ttest_ind(df_young['target'], df_old['target'], equal_var=False)\n",
    "\n",
    "print(\"p-value: {}\".format(p))"
   ]
  },
  {
   "cell_type": "markdown",
   "metadata": {},
   "source": [
    "Let's use chi square analysis to check the significance of some of these results."
   ]
  },
  {
   "cell_type": "code",
   "execution_count": 25,
   "metadata": {},
   "outputs": [
    {
     "name": "stdout",
     "output_type": "stream",
     "text": [
      "p-val: 4.517230351275773e-117\n",
      "p-val: 4.583986056068452e-115\n"
     ]
    }
   ],
   "source": [
    "p_val = np.empty(2)\n",
    "\n",
    "chi, p_val[0], dof, expected = chi2_contingency(absorb_tab)\n",
    "chi, p_val[1], dof, expected = chi2_contingency(manage_tab)\n",
    "\n",
    "for i in np.arange(2):\n",
    "    print('p-val: {}'.format(p_val[i]))"
   ]
  },
  {
   "cell_type": "markdown",
   "metadata": {},
   "source": [
    "Let's use VIF scores and a correlation matrix to remove variables that are highly correlated. "
   ]
  },
  {
   "cell_type": "code",
   "execution_count": 28,
   "metadata": {
    "collapsed": true
   },
   "outputs": [],
   "source": [
    "#Only include features we want in our model\n",
    "dfx_1 = df[['SAVINGSRANGES', 'ABSORBSHOCK', 'GOALCONF', 'ENDSMEET', 'FS1_6', 'SAVEHABIT', 'FS1_1', 'SUBKNOWL1', \n",
    "            'PRODHAVE_6', 'FS1_5', 'MANAGE1_3', 'FS1_2', 'agecat', 'CONNECT', 'PPINCIMP']]\n",
    "\n",
    "#Create our X and y\n",
    "X_1 = dfx_1.values\n",
    "y = df['target'].values"
   ]
  },
  {
   "cell_type": "code",
   "execution_count": 29,
   "metadata": {},
   "outputs": [
    {
     "data": {
      "text/html": [
       "<div>\n",
       "<style>\n",
       "    .dataframe thead tr:only-child th {\n",
       "        text-align: right;\n",
       "    }\n",
       "\n",
       "    .dataframe thead th {\n",
       "        text-align: left;\n",
       "    }\n",
       "\n",
       "    .dataframe tbody tr th {\n",
       "        vertical-align: top;\n",
       "    }\n",
       "</style>\n",
       "<table border=\"1\" class=\"dataframe\">\n",
       "  <thead>\n",
       "    <tr style=\"text-align: right;\">\n",
       "      <th></th>\n",
       "      <th>VIF Factor</th>\n",
       "      <th>features</th>\n",
       "    </tr>\n",
       "  </thead>\n",
       "  <tbody>\n",
       "    <tr>\n",
       "      <th>0</th>\n",
       "      <td>24.810232</td>\n",
       "      <td>SAVINGSRANGES</td>\n",
       "    </tr>\n",
       "    <tr>\n",
       "      <th>1</th>\n",
       "      <td>33.072163</td>\n",
       "      <td>ABSORBSHOCK</td>\n",
       "    </tr>\n",
       "    <tr>\n",
       "      <th>2</th>\n",
       "      <td>43.859505</td>\n",
       "      <td>GOALCONF</td>\n",
       "    </tr>\n",
       "    <tr>\n",
       "      <th>3</th>\n",
       "      <td>5.269624</td>\n",
       "      <td>ENDSMEET</td>\n",
       "    </tr>\n",
       "    <tr>\n",
       "      <th>4</th>\n",
       "      <td>39.244910</td>\n",
       "      <td>FS1_6</td>\n",
       "    </tr>\n",
       "    <tr>\n",
       "      <th>5</th>\n",
       "      <td>19.943202</td>\n",
       "      <td>SAVEHABIT</td>\n",
       "    </tr>\n",
       "    <tr>\n",
       "      <th>6</th>\n",
       "      <td>47.945979</td>\n",
       "      <td>FS1_1</td>\n",
       "    </tr>\n",
       "    <tr>\n",
       "      <th>7</th>\n",
       "      <td>30.382331</td>\n",
       "      <td>SUBKNOWL1</td>\n",
       "    </tr>\n",
       "    <tr>\n",
       "      <th>8</th>\n",
       "      <td>2.251570</td>\n",
       "      <td>PRODHAVE_6</td>\n",
       "    </tr>\n",
       "    <tr>\n",
       "      <th>9</th>\n",
       "      <td>23.290909</td>\n",
       "      <td>FS1_5</td>\n",
       "    </tr>\n",
       "    <tr>\n",
       "      <th>10</th>\n",
       "      <td>14.366460</td>\n",
       "      <td>MANAGE1_3</td>\n",
       "    </tr>\n",
       "    <tr>\n",
       "      <th>11</th>\n",
       "      <td>26.997714</td>\n",
       "      <td>FS1_2</td>\n",
       "    </tr>\n",
       "    <tr>\n",
       "      <th>12</th>\n",
       "      <td>9.161849</td>\n",
       "      <td>agecat</td>\n",
       "    </tr>\n",
       "    <tr>\n",
       "      <th>13</th>\n",
       "      <td>8.978749</td>\n",
       "      <td>CONNECT</td>\n",
       "    </tr>\n",
       "    <tr>\n",
       "      <th>14</th>\n",
       "      <td>12.794541</td>\n",
       "      <td>PPINCIMP</td>\n",
       "    </tr>\n",
       "  </tbody>\n",
       "</table>\n",
       "</div>"
      ],
      "text/plain": [
       "    VIF Factor       features\n",
       "0    24.810232  SAVINGSRANGES\n",
       "1    33.072163    ABSORBSHOCK\n",
       "2    43.859505       GOALCONF\n",
       "3     5.269624       ENDSMEET\n",
       "4    39.244910          FS1_6\n",
       "5    19.943202      SAVEHABIT\n",
       "6    47.945979          FS1_1\n",
       "7    30.382331      SUBKNOWL1\n",
       "8     2.251570     PRODHAVE_6\n",
       "9    23.290909          FS1_5\n",
       "10   14.366460      MANAGE1_3\n",
       "11   26.997714          FS1_2\n",
       "12    9.161849         agecat\n",
       "13    8.978749        CONNECT\n",
       "14   12.794541       PPINCIMP"
      ]
     },
     "execution_count": 29,
     "metadata": {},
     "output_type": "execute_result"
    }
   ],
   "source": [
    "from statsmodels.stats.outliers_influence import variance_inflation_factor\n",
    "\n",
    "#Calculate VIF scores\n",
    "vif = pd.DataFrame()\n",
    "vif[\"VIF Factor\"] = [variance_inflation_factor(X_1, i) for i in range(X_1.shape[1])]\n",
    "vif[\"features\"] = dfx_1.columns\n",
    "vif"
   ]
  },
  {
   "cell_type": "code",
   "execution_count": 6,
   "metadata": {},
   "outputs": [
    {
     "data": {
      "text/html": [
       "<div>\n",
       "<style>\n",
       "    .dataframe thead tr:only-child th {\n",
       "        text-align: right;\n",
       "    }\n",
       "\n",
       "    .dataframe thead th {\n",
       "        text-align: left;\n",
       "    }\n",
       "\n",
       "    .dataframe tbody tr th {\n",
       "        vertical-align: top;\n",
       "    }\n",
       "</style>\n",
       "<table border=\"1\" class=\"dataframe\">\n",
       "  <thead>\n",
       "    <tr style=\"text-align: right;\">\n",
       "      <th></th>\n",
       "      <th>SAVINGSRANGES</th>\n",
       "      <th>ABSORBSHOCK</th>\n",
       "      <th>GOALCONF</th>\n",
       "      <th>ENDSMEET</th>\n",
       "      <th>FS1_6</th>\n",
       "      <th>SAVEHABIT</th>\n",
       "      <th>FS1_1</th>\n",
       "      <th>SUBKNOWL1</th>\n",
       "      <th>PRODHAVE_6</th>\n",
       "      <th>FS1_5</th>\n",
       "    </tr>\n",
       "  </thead>\n",
       "  <tbody>\n",
       "    <tr>\n",
       "      <th>SAVINGSRANGES</th>\n",
       "      <td>1.000000</td>\n",
       "      <td>0.543870</td>\n",
       "      <td>0.376639</td>\n",
       "      <td>-0.489174</td>\n",
       "      <td>0.321020</td>\n",
       "      <td>0.433759</td>\n",
       "      <td>0.316781</td>\n",
       "      <td>0.228618</td>\n",
       "      <td>0.367200</td>\n",
       "      <td>0.211773</td>\n",
       "    </tr>\n",
       "    <tr>\n",
       "      <th>ABSORBSHOCK</th>\n",
       "      <td>0.543870</td>\n",
       "      <td>1.000000</td>\n",
       "      <td>0.408137</td>\n",
       "      <td>-0.570433</td>\n",
       "      <td>0.283846</td>\n",
       "      <td>0.379982</td>\n",
       "      <td>0.347987</td>\n",
       "      <td>0.272141</td>\n",
       "      <td>0.320275</td>\n",
       "      <td>0.253246</td>\n",
       "    </tr>\n",
       "    <tr>\n",
       "      <th>GOALCONF</th>\n",
       "      <td>0.376639</td>\n",
       "      <td>0.408137</td>\n",
       "      <td>1.000000</td>\n",
       "      <td>-0.469222</td>\n",
       "      <td>0.454820</td>\n",
       "      <td>0.457931</td>\n",
       "      <td>0.517703</td>\n",
       "      <td>0.404364</td>\n",
       "      <td>0.273145</td>\n",
       "      <td>0.391865</td>\n",
       "    </tr>\n",
       "    <tr>\n",
       "      <th>ENDSMEET</th>\n",
       "      <td>-0.489174</td>\n",
       "      <td>-0.570433</td>\n",
       "      <td>-0.469222</td>\n",
       "      <td>1.000000</td>\n",
       "      <td>-0.321663</td>\n",
       "      <td>-0.404250</td>\n",
       "      <td>-0.379754</td>\n",
       "      <td>-0.275394</td>\n",
       "      <td>-0.280629</td>\n",
       "      <td>-0.258955</td>\n",
       "    </tr>\n",
       "    <tr>\n",
       "      <th>FS1_6</th>\n",
       "      <td>0.321020</td>\n",
       "      <td>0.283846</td>\n",
       "      <td>0.454820</td>\n",
       "      <td>-0.321663</td>\n",
       "      <td>1.000000</td>\n",
       "      <td>0.403228</td>\n",
       "      <td>0.637467</td>\n",
       "      <td>0.333377</td>\n",
       "      <td>0.178510</td>\n",
       "      <td>0.384989</td>\n",
       "    </tr>\n",
       "    <tr>\n",
       "      <th>SAVEHABIT</th>\n",
       "      <td>0.433759</td>\n",
       "      <td>0.379982</td>\n",
       "      <td>0.457931</td>\n",
       "      <td>-0.404250</td>\n",
       "      <td>0.403228</td>\n",
       "      <td>1.000000</td>\n",
       "      <td>0.427929</td>\n",
       "      <td>0.289020</td>\n",
       "      <td>0.284754</td>\n",
       "      <td>0.288683</td>\n",
       "    </tr>\n",
       "    <tr>\n",
       "      <th>FS1_1</th>\n",
       "      <td>0.316781</td>\n",
       "      <td>0.347987</td>\n",
       "      <td>0.517703</td>\n",
       "      <td>-0.379754</td>\n",
       "      <td>0.637467</td>\n",
       "      <td>0.427929</td>\n",
       "      <td>1.000000</td>\n",
       "      <td>0.464758</td>\n",
       "      <td>0.194987</td>\n",
       "      <td>0.504990</td>\n",
       "    </tr>\n",
       "    <tr>\n",
       "      <th>SUBKNOWL1</th>\n",
       "      <td>0.228618</td>\n",
       "      <td>0.272141</td>\n",
       "      <td>0.404364</td>\n",
       "      <td>-0.275394</td>\n",
       "      <td>0.333377</td>\n",
       "      <td>0.289020</td>\n",
       "      <td>0.464758</td>\n",
       "      <td>1.000000</td>\n",
       "      <td>0.209016</td>\n",
       "      <td>0.583234</td>\n",
       "    </tr>\n",
       "    <tr>\n",
       "      <th>PRODHAVE_6</th>\n",
       "      <td>0.367200</td>\n",
       "      <td>0.320275</td>\n",
       "      <td>0.273145</td>\n",
       "      <td>-0.280629</td>\n",
       "      <td>0.178510</td>\n",
       "      <td>0.284754</td>\n",
       "      <td>0.194987</td>\n",
       "      <td>0.209016</td>\n",
       "      <td>1.000000</td>\n",
       "      <td>0.225326</td>\n",
       "    </tr>\n",
       "    <tr>\n",
       "      <th>FS1_5</th>\n",
       "      <td>0.211773</td>\n",
       "      <td>0.253246</td>\n",
       "      <td>0.391865</td>\n",
       "      <td>-0.258955</td>\n",
       "      <td>0.384989</td>\n",
       "      <td>0.288683</td>\n",
       "      <td>0.504990</td>\n",
       "      <td>0.583234</td>\n",
       "      <td>0.225326</td>\n",
       "      <td>1.000000</td>\n",
       "    </tr>\n",
       "  </tbody>\n",
       "</table>\n",
       "</div>"
      ],
      "text/plain": [
       "               SAVINGSRANGES  ABSORBSHOCK  GOALCONF  ENDSMEET     FS1_6  \\\n",
       "SAVINGSRANGES       1.000000     0.543870  0.376639 -0.489174  0.321020   \n",
       "ABSORBSHOCK         0.543870     1.000000  0.408137 -0.570433  0.283846   \n",
       "GOALCONF            0.376639     0.408137  1.000000 -0.469222  0.454820   \n",
       "ENDSMEET           -0.489174    -0.570433 -0.469222  1.000000 -0.321663   \n",
       "FS1_6               0.321020     0.283846  0.454820 -0.321663  1.000000   \n",
       "SAVEHABIT           0.433759     0.379982  0.457931 -0.404250  0.403228   \n",
       "FS1_1               0.316781     0.347987  0.517703 -0.379754  0.637467   \n",
       "SUBKNOWL1           0.228618     0.272141  0.404364 -0.275394  0.333377   \n",
       "PRODHAVE_6          0.367200     0.320275  0.273145 -0.280629  0.178510   \n",
       "FS1_5               0.211773     0.253246  0.391865 -0.258955  0.384989   \n",
       "\n",
       "               SAVEHABIT     FS1_1  SUBKNOWL1  PRODHAVE_6     FS1_5  \n",
       "SAVINGSRANGES   0.433759  0.316781   0.228618    0.367200  0.211773  \n",
       "ABSORBSHOCK     0.379982  0.347987   0.272141    0.320275  0.253246  \n",
       "GOALCONF        0.457931  0.517703   0.404364    0.273145  0.391865  \n",
       "ENDSMEET       -0.404250 -0.379754  -0.275394   -0.280629 -0.258955  \n",
       "FS1_6           0.403228  0.637467   0.333377    0.178510  0.384989  \n",
       "SAVEHABIT       1.000000  0.427929   0.289020    0.284754  0.288683  \n",
       "FS1_1           0.427929  1.000000   0.464758    0.194987  0.504990  \n",
       "SUBKNOWL1       0.289020  0.464758   1.000000    0.209016  0.583234  \n",
       "PRODHAVE_6      0.284754  0.194987   0.209016    1.000000  0.225326  \n",
       "FS1_5           0.288683  0.504990   0.583234    0.225326  1.000000  "
      ]
     },
     "execution_count": 6,
     "metadata": {},
     "output_type": "execute_result"
    }
   ],
   "source": [
    "#Create correlation matrix for our features\n",
    "dfx_1.corr(method='spearman')"
   ]
  },
  {
   "cell_type": "markdown",
   "metadata": {},
   "source": [
    "We can see that many of our features have high VIF scores (>10) and are highly correlated with one another (>~|0.4|). We remove variables with the highest VIF scores in succession until all scores are sufficiently low."
   ]
  },
  {
   "cell_type": "code",
   "execution_count": 12,
   "metadata": {},
   "outputs": [
    {
     "data": {
      "text/html": [
       "<div>\n",
       "<style>\n",
       "    .dataframe thead tr:only-child th {\n",
       "        text-align: right;\n",
       "    }\n",
       "\n",
       "    .dataframe thead th {\n",
       "        text-align: left;\n",
       "    }\n",
       "\n",
       "    .dataframe tbody tr th {\n",
       "        vertical-align: top;\n",
       "    }\n",
       "</style>\n",
       "<table border=\"1\" class=\"dataframe\">\n",
       "  <thead>\n",
       "    <tr style=\"text-align: right;\">\n",
       "      <th></th>\n",
       "      <th>VIF Factor</th>\n",
       "      <th>features</th>\n",
       "    </tr>\n",
       "  </thead>\n",
       "  <tbody>\n",
       "    <tr>\n",
       "      <th>0</th>\n",
       "      <td>2.052097</td>\n",
       "      <td>PRODHAVE_6</td>\n",
       "    </tr>\n",
       "    <tr>\n",
       "      <th>1</th>\n",
       "      <td>6.098326</td>\n",
       "      <td>MANAGE1_3</td>\n",
       "    </tr>\n",
       "    <tr>\n",
       "      <th>2</th>\n",
       "      <td>5.347953</td>\n",
       "      <td>agecat</td>\n",
       "    </tr>\n",
       "  </tbody>\n",
       "</table>\n",
       "</div>"
      ],
      "text/plain": [
       "   VIF Factor    features\n",
       "0    2.052097  PRODHAVE_6\n",
       "1    6.098326   MANAGE1_3\n",
       "2    5.347953      agecat"
      ]
     },
     "execution_count": 12,
     "metadata": {},
     "output_type": "execute_result"
    }
   ],
   "source": [
    "#Create dataframe with updated features\n",
    "dfx_2 = df[['PRODHAVE_6', 'MANAGE1_3', 'agecat']]\n",
    "\n",
    "#Create X values\n",
    "X_2 = dfx_2.values\n",
    "\n",
    "#VIF scores\n",
    "vif = pd.DataFrame()\n",
    "vif[\"VIF Factor\"] = [variance_inflation_factor(X_2, i) for i in range(X_2.shape[1])]\n",
    "vif[\"features\"] = dfx_2.columns\n",
    "vif"
   ]
  },
  {
   "cell_type": "code",
   "execution_count": 151,
   "metadata": {},
   "outputs": [
    {
     "data": {
      "text/html": [
       "<div>\n",
       "<style>\n",
       "    .dataframe thead tr:only-child th {\n",
       "        text-align: right;\n",
       "    }\n",
       "\n",
       "    .dataframe thead th {\n",
       "        text-align: left;\n",
       "    }\n",
       "\n",
       "    .dataframe tbody tr th {\n",
       "        vertical-align: top;\n",
       "    }\n",
       "</style>\n",
       "<table border=\"1\" class=\"dataframe\">\n",
       "  <thead>\n",
       "    <tr style=\"text-align: right;\">\n",
       "      <th></th>\n",
       "      <th>ENDSMEET</th>\n",
       "      <th>PRODHAVE_6</th>\n",
       "      <th>FS1_5</th>\n",
       "    </tr>\n",
       "  </thead>\n",
       "  <tbody>\n",
       "    <tr>\n",
       "      <th>ENDSMEET</th>\n",
       "      <td>1.000000</td>\n",
       "      <td>-0.280629</td>\n",
       "      <td>-0.258955</td>\n",
       "    </tr>\n",
       "    <tr>\n",
       "      <th>PRODHAVE_6</th>\n",
       "      <td>-0.280629</td>\n",
       "      <td>1.000000</td>\n",
       "      <td>0.225326</td>\n",
       "    </tr>\n",
       "    <tr>\n",
       "      <th>FS1_5</th>\n",
       "      <td>-0.258955</td>\n",
       "      <td>0.225326</td>\n",
       "      <td>1.000000</td>\n",
       "    </tr>\n",
       "  </tbody>\n",
       "</table>\n",
       "</div>"
      ],
      "text/plain": [
       "            ENDSMEET  PRODHAVE_6     FS1_5\n",
       "ENDSMEET    1.000000   -0.280629 -0.258955\n",
       "PRODHAVE_6 -0.280629    1.000000  0.225326\n",
       "FS1_5      -0.258955    0.225326  1.000000"
      ]
     },
     "execution_count": 151,
     "metadata": {},
     "output_type": "execute_result"
    }
   ],
   "source": [
    "#Correlation matrix\n",
    "dfx_2.corr(method='spearman')"
   ]
  },
  {
   "cell_type": "markdown",
   "metadata": {
    "collapsed": true
   },
   "source": [
    "We've removed many of our variables and they now have low VIF scores and correlation scores. Now we can add the rest of the variables from our random forest features list while making sure we're avoiding the problem of multicollinearity. However, we deal with categorical variables such as census division separately since VIF factors and Spearman correlation are not valid on these types of data."
   ]
  },
  {
   "cell_type": "code",
   "execution_count": 30,
   "metadata": {},
   "outputs": [
    {
     "data": {
      "text/html": [
       "<div>\n",
       "<style>\n",
       "    .dataframe thead tr:only-child th {\n",
       "        text-align: right;\n",
       "    }\n",
       "\n",
       "    .dataframe thead th {\n",
       "        text-align: left;\n",
       "    }\n",
       "\n",
       "    .dataframe tbody tr th {\n",
       "        vertical-align: top;\n",
       "    }\n",
       "</style>\n",
       "<table border=\"1\" class=\"dataframe\">\n",
       "  <thead>\n",
       "    <tr style=\"text-align: right;\">\n",
       "      <th></th>\n",
       "      <th>VIF Factor</th>\n",
       "      <th>features</th>\n",
       "    </tr>\n",
       "  </thead>\n",
       "  <tbody>\n",
       "    <tr>\n",
       "      <th>0</th>\n",
       "      <td>2.199487</td>\n",
       "      <td>PRODHAVE_6</td>\n",
       "    </tr>\n",
       "    <tr>\n",
       "      <th>1</th>\n",
       "      <td>9.345695</td>\n",
       "      <td>MANAGE1_3</td>\n",
       "    </tr>\n",
       "    <tr>\n",
       "      <th>2</th>\n",
       "      <td>5.998625</td>\n",
       "      <td>agecat</td>\n",
       "    </tr>\n",
       "    <tr>\n",
       "      <th>3</th>\n",
       "      <td>1.324682</td>\n",
       "      <td>KHscore</td>\n",
       "    </tr>\n",
       "    <tr>\n",
       "      <th>4</th>\n",
       "      <td>7.578020</td>\n",
       "      <td>SCFHORIZON</td>\n",
       "    </tr>\n",
       "    <tr>\n",
       "      <th>5</th>\n",
       "      <td>5.849273</td>\n",
       "      <td>PAREDUC</td>\n",
       "    </tr>\n",
       "  </tbody>\n",
       "</table>\n",
       "</div>"
      ],
      "text/plain": [
       "   VIF Factor    features\n",
       "0    2.199487  PRODHAVE_6\n",
       "1    9.345695   MANAGE1_3\n",
       "2    5.998625      agecat\n",
       "3    1.324682     KHscore\n",
       "4    7.578020  SCFHORIZON\n",
       "5    5.849273     PAREDUC"
      ]
     },
     "execution_count": 30,
     "metadata": {},
     "output_type": "execute_result"
    }
   ],
   "source": [
    "#Create dataframe with updated features\n",
    "dfx_3 = df[['PRODHAVE_6', 'MANAGE1_3', 'agecat', 'KHscore', 'SCFHORIZON', 'PAREDUC']]\n",
    "\n",
    "#Create X values\n",
    "X_3 = dfx_3.values\n",
    "\n",
    "#VIF scores\n",
    "vif = pd.DataFrame()\n",
    "vif[\"VIF Factor\"] = [variance_inflation_factor(X_3, i) for i in range(X_3.shape[1])]\n",
    "vif[\"features\"] = dfx_3.columns\n",
    "vif"
   ]
  },
  {
   "cell_type": "code",
   "execution_count": 34,
   "metadata": {},
   "outputs": [
    {
     "data": {
      "text/plain": [
       "<matplotlib.axes._subplots.AxesSubplot at 0x7f1e76e76668>"
      ]
     },
     "execution_count": 34,
     "metadata": {},
     "output_type": "execute_result"
    },
    {
     "data": {
      "image/png": "[encoded data removed]",
      "text/plain": [
       "<matplotlib.figure.Figure at 0x7f1e76f12cc0>"
      ]
     },
     "metadata": {},
     "output_type": "display_data"
    }
   ],
   "source": [
    "%matplotlib inline\n",
    "\n",
    "#Correlation matrix\n",
    "corr = dfx_3.corr(method='spearman')\n",
    "\n",
    "#Heatmap\n",
    "sns.heatmap(corr, xticklabels = corr.columns, yticklabels = corr.columns)"
   ]
  },
  {
   "cell_type": "markdown",
   "metadata": {},
   "source": [
    "Now that we have these 6 variables, we can also look their visualizations."
   ]
  },
  {
   "cell_type": "code",
   "execution_count": 6,
   "metadata": {},
   "outputs": [
    {
     "data": {
      "image/png": "[encoded data removed]",
      "text/plain": [
       "<matplotlib.figure.Figure at 0x7f6e33e058d0>"
      ]
     },
     "metadata": {},
     "output_type": "display_data"
    }
   ],
   "source": [
    "#Remove rows where response was -1 (no response)\n",
    "dfhorizon = df[df['SCFHORIZON'] != -1]\n",
    "\n",
    "#Create table containing relevant values\n",
    "horizon_tab = pd.crosstab(dfhorizon['SCFHORIZON'], dfhorizon['target'])\n",
    "\n",
    "#Create x and y values to graph\n",
    "x_vals = np.arange(5) + 1\n",
    "x_labels = ['Few months', 'Next year', 'Few years', '5-10 years', '>10 years']\n",
    "horizon_vals = np.empty(5)\n",
    "for i in range(5):\n",
    "    #Calculate percentage of respondents who responded True for target variable, grouped by response\n",
    "    horizon_vals[i] = horizon_tab.loc[i+1, True] / np.sum(horizon_tab.iloc[i, 0:2])\n",
    "\n",
    "#Create bar graph \n",
    "plt.bar(x_vals, horizon_vals)\n",
    "plt.title('Relating Planning Horizon and Handling Unexpected Expenses')\n",
    "plt.xlabel('Financial Planning Horizon')\n",
    "plt.ylabel('% Can Handle Unexpected Expense')\n",
    "plt.xticks(x_vals, x_labels)\n",
    "plt.show()"
   ]
  },
  {
   "cell_type": "code",
   "execution_count": 15,
   "metadata": {},
   "outputs": [
    {
     "name": "stdout",
     "output_type": "stream",
     "text": [
      "p-val: 1.3372684573812833e-34\n"
     ]
    }
   ],
   "source": [
    "chi, p_val, dof, expected = chi2_contingency(horizon_tab)\n",
    "\n",
    "print('p-val: {}'.format(p_val))"
   ]
  },
  {
   "cell_type": "code",
   "execution_count": 12,
   "metadata": {},
   "outputs": [
    {
     "data": {
      "image/png": "[encoded data removed]",
      "text/plain": [
       "<matplotlib.figure.Figure at 0x7f6e33e05860>"
      ]
     },
     "metadata": {},
     "output_type": "display_data"
    }
   ],
   "source": [
    "#Remove rows where response was -1 (no response)\n",
    "dfeducation = df[df['PAREDUC'] != -1]\n",
    "\n",
    "#Create table with relevant values\n",
    "education_tab = pd.crosstab(dfeducation['PAREDUC'], df['target'])\n",
    "\n",
    "#Create x and y values to graph\n",
    "x_vals = np.arange(5) + 1\n",
    "x_labels = ['Less than high school', 'High school/GED', 'Some college/Associates', 'Bachelor\\'s', 'Postgraduate']\n",
    "education_vals = np.empty(5)\n",
    "for i in range(5):\n",
    "    #Calculate percentage of respondents who responded True for target variable, grouped by response\n",
    "    education_vals[i] = education_tab.iloc[i, 1] / np.sum(education_tab.iloc[i, 0:2])\n",
    "\n",
    "#Create bar graph\n",
    "plt.bar(x_vals, education_vals)\n",
    "plt.title('Relating Education and Handling Unexpected Expenses')\n",
    "plt.xlabel('Highest Level of Education of People who Raised Respondent')\n",
    "plt.ylabel('% Can Handle Unexpected Expense')\n",
    "plt.xticks(x_vals, x_labels, rotation=30)\n",
    "plt.show()"
   ]
  },
  {
   "cell_type": "code",
   "execution_count": 13,
   "metadata": {},
   "outputs": [
    {
     "name": "stdout",
     "output_type": "stream",
     "text": [
      "p-val: 1.7768030196282957e-15\n"
     ]
    }
   ],
   "source": [
    "chi, p_val, dof, expected = chi2_contingency(education_tab)\n",
    "\n",
    "print('p-val: {}'.format(p_val))"
   ]
  },
  {
   "cell_type": "markdown",
   "metadata": {
    "collapsed": true
   },
   "source": [
    "Both our graphical and quantitative analyses confirm that these two variables are good predictors of our target variable. "
   ]
  },
  {
   "cell_type": "code",
   "execution_count": null,
   "metadata": {
    "collapsed": true
   },
   "outputs": [],
   "source": []
  }
 ],
 "metadata": {
  "kernelspec": {
   "display_name": "Python 3",
   "language": "python",
   "name": "python3"
  },
  "language_info": {
   "codemirror_mode": {
    "name": "ipython",
    "version": 3
   },
   "file_extension": ".py",
   "mimetype": "text/x-python",
   "name": "python",
   "nbconvert_exporter": "python",
   "pygments_lexer": "ipython3",
   "version": "3.6.3"
  }
 },
 "nbformat": 4,
 "nbformat_minor": 2
}
